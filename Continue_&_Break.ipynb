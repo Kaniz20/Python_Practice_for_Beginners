{
  "nbformat": 4,
  "nbformat_minor": 0,
  "metadata": {
    "colab": {
      "provenance": [],
      "authorship_tag": "ABX9TyMBK1Sh6z1WQTk8/M+HE7yH",
      "include_colab_link": true
    },
    "kernelspec": {
      "name": "python3",
      "display_name": "Python 3"
    },
    "language_info": {
      "name": "python"
    }
  },
  "cells": [
    {
      "cell_type": "markdown",
      "metadata": {
        "id": "view-in-github",
        "colab_type": "text"
      },
      "source": [
        "<a href=\"https://colab.research.google.com/github/Kaniz20/Python_Practice_for_Beginners/blob/main/Continue_%26_Break.ipynb\" target=\"_parent\"><img src=\"https://colab.research.google.com/assets/colab-badge.svg\" alt=\"Open In Colab\"/></a>"
      ]
    },
    {
      "cell_type": "markdown",
      "source": [
        "# Loop Control Statements in Python\n",
        "\n",
        "## continue\n",
        "- Skips the current iteration and moves to the next iteration of the loop.  \n",
        "- Used when you want to **skip some part** of the code inside the loop.  \n",
        "\n",
        "### Example:\n",
        "```python\n",
        "for i in range(1, 6):\n",
        "    if i == 3:\n",
        "        continue   # skip when i = 3\n",
        "    print(i)\n"
      ],
      "metadata": {
        "id": "pdGsLdYo7DV5"
      }
    },
    {
      "cell_type": "markdown",
      "source": [
        "# break Statement in Python\n",
        "\n",
        "- The `break` statement is used to **exit a loop immediately**.  \n",
        "- It ignores the remaining iterations, even if the condition is still True.  \n",
        "- Works in both **for loop** and **while loop**.  \n",
        "\n",
        "Example (with for loop):\n",
        "```python\n",
        "for i in range(1, 6):\n",
        "    if i == 3:\n",
        "        break   # exit when i = 3/# stop loop when i = 3\n",
        "    print(i)\n",
        "\n",
        "\n",
        "\n"
      ],
      "metadata": {
        "id": "BYOpQzn07fks"
      }
    },
    {
      "cell_type": "code",
      "source": [
        "for create_strings in \"Kaniz\":\n",
        "      #if create_strings == \"i\":\n",
        "\n",
        "      print(create_strings)"
      ],
      "metadata": {
        "colab": {
          "base_uri": "https://localhost:8080/"
        },
        "id": "ov07YTSB79oA",
        "outputId": "be8d7814-42d6-49ef-e07a-7e96f632af79"
      },
      "execution_count": 10,
      "outputs": [
        {
          "output_type": "stream",
          "name": "stdout",
          "text": [
            "K\n",
            "a\n",
            "n\n",
            "i\n",
            "z\n"
          ]
        }
      ]
    },
    {
      "cell_type": "code",
      "source": [
        "for x in \"Fatema\":\n",
        "    if x == \"e\":\n",
        "        break\n",
        "    print(x)"
      ],
      "metadata": {
        "colab": {
          "base_uri": "https://localhost:8080/"
        },
        "id": "qUKX2rB7BuXF",
        "outputId": "615e5451-4da2-4468-85c8-a670bd278fa1"
      },
      "execution_count": 20,
      "outputs": [
        {
          "output_type": "stream",
          "name": "stdout",
          "text": [
            "F\n",
            "a\n",
            "t\n"
          ]
        }
      ]
    },
    {
      "cell_type": "code",
      "source": [
        "for y in [1,2,3,5]:\n",
        "  if y == 3:\n",
        "    continue\n",
        "  print(y)"
      ],
      "metadata": {
        "id": "Ygx6PpYTCjKt",
        "outputId": "5f4e334d-a328-4712-a924-50e3cc21b48f",
        "colab": {
          "base_uri": "https://localhost:8080/"
        }
      },
      "execution_count": 22,
      "outputs": [
        {
          "output_type": "stream",
          "name": "stdout",
          "text": [
            "1\n",
            "2\n",
            "5\n"
          ]
        }
      ]
    },
    {
      "cell_type": "code",
      "source": [
        "count_vari=3\n",
        "while count_vari<10:\n",
        "    print(count_vari)\n",
        "    count_vari+=1\n",
        "    if count_vari==6:\n",
        "        break\n",
        "        print(count_vari)"
      ],
      "metadata": {
        "id": "xDUhhPCQCwBl",
        "outputId": "980f104f-6ae6-4b60-e5b4-17212ddaa23a",
        "colab": {
          "base_uri": "https://localhost:8080/"
        }
      },
      "execution_count": 23,
      "outputs": [
        {
          "output_type": "stream",
          "name": "stdout",
          "text": [
            "3\n",
            "4\n",
            "5\n"
          ]
        }
      ]
    },
    {
      "cell_type": "code",
      "source": [
        "count_variable=3\n",
        "while count_variable<10:\n",
        "    print(count_variable)\n",
        "    count_variable+=1\n",
        "    if count_variable==6:\n",
        "        break\n",
        "        print(count_variable)"
      ],
      "metadata": {
        "id": "QaQzbio2E3A_",
        "outputId": "73167750-71ff-43cc-86cd-07842488b8e4",
        "colab": {
          "base_uri": "https://localhost:8080/"
        }
      },
      "execution_count": 40,
      "outputs": [
        {
          "output_type": "stream",
          "name": "stdout",
          "text": [
            "3\n",
            "4\n",
            "5\n"
          ]
        }
      ]
    },
    {
      "cell_type": "code",
      "source": [
        "for list_name in [\"kaniz\",22,\"cse\"]:\n",
        "    if list_name ==22:\n",
        "      continue\n",
        "    print(list_name)"
      ],
      "metadata": {
        "id": "p3nKWA05DcoZ",
        "outputId": "2f93e866-c606-4fd3-8a68-ea47d851589b",
        "colab": {
          "base_uri": "https://localhost:8080/"
        }
      },
      "execution_count": 32,
      "outputs": [
        {
          "output_type": "stream",
          "name": "stdout",
          "text": [
            "kaniz\n",
            "cse\n"
          ]
        }
      ]
    }
  ]
}