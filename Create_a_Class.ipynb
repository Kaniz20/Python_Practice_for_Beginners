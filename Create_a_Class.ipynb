{
  "nbformat": 4,
  "nbformat_minor": 0,
  "metadata": {
    "colab": {
      "provenance": [],
      "authorship_tag": "ABX9TyPCg93A3FjiLPe4d3PkJJJk",
      "include_colab_link": true
    },
    "kernelspec": {
      "name": "python3",
      "display_name": "Python 3"
    },
    "language_info": {
      "name": "python"
    }
  },
  "cells": [
    {
      "cell_type": "markdown",
      "metadata": {
        "id": "view-in-github",
        "colab_type": "text"
      },
      "source": [
        "<a href=\"https://colab.research.google.com/github/Kaniz20/Python_Practice_for_Beginners/blob/main/Create_a_Class.ipynb\" target=\"_parent\"><img src=\"https://colab.research.google.com/assets/colab-badge.svg\" alt=\"Open In Colab\"/></a>"
      ]
    },
    {
      "cell_type": "markdown",
      "source": [
        "# Define a class\n",
        "    \n",
        "    class ClassName:\n",
        "    def __init__(self, attribute1, attribute2):\n",
        "        self.attribute1 = attribute1   # instance variable\n",
        "        self.attribute2 = attribute2\n",
        "\n",
        "    # Method of the class\n",
        "    def method_name(self):\n",
        "        print(\"Attribute1:\", self.attribute1)\n",
        "        print(\"Attribute2:\", self.attribute2)\n",
        "\n",
        "# Create an object\n",
        "    obj = ClassName(\"Hello\", 123)\n",
        "\n",
        "# Call the method\n",
        "    obj.method_name()\n"
      ],
      "metadata": {
        "id": "A0B2BIkEvKyK"
      }
    },
    {
      "cell_type": "code",
      "source": [
        "class ClassName:\n",
        "    def __init__(self, name, age):\n",
        "      self.access_name=name\n",
        "      self.access_age=age\n",
        "\n",
        "     # class_object=ClassName(\"John\",30)\n"
      ],
      "metadata": {
        "id": "GHqssxhzviBz"
      },
      "execution_count": null,
      "outputs": []
    },
    {
      "cell_type": "code",
      "source": [
        "class_object=ClassName(\"John\",30)"
      ],
      "metadata": {
        "id": "ZeN6zEauzKIs"
      },
      "execution_count": null,
      "outputs": []
    },
    {
      "cell_type": "code",
      "source": [
        "class_object.access_name"
      ],
      "metadata": {
        "colab": {
          "base_uri": "https://localhost:8080/",
          "height": 36
        },
        "id": "4NmXMOFozkZi",
        "outputId": "fe4165ff-5e6a-4f42-af03-0c03d4d83b2d"
      },
      "execution_count": null,
      "outputs": [
        {
          "output_type": "execute_result",
          "data": {
            "text/plain": [
              "'John'"
            ],
            "application/vnd.google.colaboratory.intrinsic+json": {
              "type": "string"
            }
          },
          "metadata": {},
          "execution_count": 18
        }
      ]
    },
    {
      "cell_type": "code",
      "source": [
        "class_object.access_age"
      ],
      "metadata": {
        "colab": {
          "base_uri": "https://localhost:8080/"
        },
        "id": "xxOsg-ZJzrPI",
        "outputId": "099c7be7-b44c-4ed1-e966-e49e2b536235"
      },
      "execution_count": null,
      "outputs": [
        {
          "output_type": "execute_result",
          "data": {
            "text/plain": [
              "30"
            ]
          },
          "metadata": {},
          "execution_count": 19
        }
      ]
    },
    {
      "cell_type": "code",
      "source": [
        "class ClassName:\n",
        "  def __init__ (self,color,number):\n",
        "    self.color=color\n",
        "    self.number=number"
      ],
      "metadata": {
        "id": "KyP3nRRrxee9"
      },
      "execution_count": null,
      "outputs": []
    },
    {
      "cell_type": "code",
      "source": [
        "object=ClassName(\"red\",10)"
      ],
      "metadata": {
        "id": "rahAmzcL0PPj"
      },
      "execution_count": null,
      "outputs": []
    },
    {
      "cell_type": "code",
      "source": [
        "\n",
        "object.number\n"
      ],
      "metadata": {
        "colab": {
          "base_uri": "https://localhost:8080/"
        },
        "id": "7fYejfck0LMv",
        "outputId": "ea48b44c-d90e-456f-82bf-cb060df974f1"
      },
      "execution_count": null,
      "outputs": [
        {
          "output_type": "execute_result",
          "data": {
            "text/plain": [
              "10"
            ]
          },
          "metadata": {},
          "execution_count": 25
        }
      ]
    },
    {
      "cell_type": "code",
      "source": [
        "object.color"
      ],
      "metadata": {
        "colab": {
          "base_uri": "https://localhost:8080/",
          "height": 36
        },
        "id": "1iSdeQGW0ogW",
        "outputId": "f90152ef-b19f-40f9-825c-50a9c6d49529"
      },
      "execution_count": null,
      "outputs": [
        {
          "output_type": "execute_result",
          "data": {
            "text/plain": [
              "'red'"
            ],
            "application/vnd.google.colaboratory.intrinsic+json": {
              "type": "string"
            }
          },
          "metadata": {},
          "execution_count": 26
        }
      ]
    }
  ]
}