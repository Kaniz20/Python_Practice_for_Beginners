{
  "nbformat": 4,
  "nbformat_minor": 0,
  "metadata": {
    "colab": {
      "provenance": [],
      "authorship_tag": "ABX9TyNMVrgrgNt+K4d2c5jGS6++",
      "include_colab_link": true
    },
    "kernelspec": {
      "name": "python3",
      "display_name": "Python 3"
    },
    "language_info": {
      "name": "python"
    }
  },
  "cells": [
    {
      "cell_type": "markdown",
      "metadata": {
        "id": "view-in-github",
        "colab_type": "text"
      },
      "source": [
        "<a href=\"https://colab.research.google.com/github/Kaniz20/Python_Practice_for_Beginners/blob/main/Creating_Methods.ipynb\" target=\"_parent\"><img src=\"https://colab.research.google.com/assets/colab-badge.svg\" alt=\"Open In Colab\"/></a>"
      ]
    },
    {
      "cell_type": "markdown",
      "source": [
        "# Define a class\n",
        "    class Student:\n",
        "    # Constructor method (called when creating an object)\n",
        "    def __init__(self, name, age):\n",
        "        self.name = name\n",
        "        self.age = age\n",
        "    \n",
        "    # A method to display student details\n",
        "    def display_info(self):\n",
        "        print(f\"Name: {self.name}, Age: {self.age}\")\n",
        "    \n",
        "    # A method to check if student is adult\n",
        "    def is_adult(self):\n",
        "        if self.age >= 18:\n",
        "            return True\n",
        "        else:\n",
        "            return False\n",
        "\n",
        "# Create objects (instances of Student class)\n",
        "    student1 = Student(\"Kaniz\", 22)\n",
        "    student2 = Student(\"Anika\", 16)\n",
        "\n",
        "# Call methods\n",
        "    student1.display_info()\n",
        "    print(\"Is adult?\", student1.is_adult())\n",
        "\n",
        "    student2.display_info()\n",
        "    print(\"Is adult?\", student2.is_adult())\n"
      ],
      "metadata": {
        "id": "z0V4lLybsil9"
      }
    },
    {
      "cell_type": "code",
      "execution_count": 28,
      "metadata": {
        "id": "57lhSBrWlAA9"
      },
      "outputs": [],
      "source": [
        "class StudentInfo:\n",
        "  def __init__(self, name, age, grade):\n",
        "    self.name = name\n",
        "    self.age = age\n",
        "    self.grade = grade\n",
        "\n",
        "  def display_info(self):\n",
        "    print(f\"Name: {self.name}\")\n",
        "    print(f\"Age: {self.age}\")\n",
        "    print(f\"Grade: {self.grade}\")\n",
        "\n",
        "  def get_grade(self):\n",
        "    return self.grade\n",
        "\n",
        "  def is_passing(self):\n",
        "    return self.grade >= \"A\"\n"
      ]
    },
    {
      "cell_type": "code",
      "source": [
        "student_object=StudentInfo(\"kaniz\",22,\"A\")"
      ],
      "metadata": {
        "id": "XoivLZKBneXP"
      },
      "execution_count": 29,
      "outputs": []
    },
    {
      "cell_type": "code",
      "source": [
        "student_object.display_info()"
      ],
      "metadata": {
        "colab": {
          "base_uri": "https://localhost:8080/"
        },
        "id": "qFOoKc0vnwXu",
        "outputId": "b7ee9c82-ac7a-4073-e8f5-2f66221535e0"
      },
      "execution_count": 30,
      "outputs": [
        {
          "output_type": "stream",
          "name": "stdout",
          "text": [
            "Name: kaniz\n",
            "Age: 22\n",
            "Grade: A\n"
          ]
        }
      ]
    },
    {
      "cell_type": "code",
      "source": [
        "student_object.is_passing()"
      ],
      "metadata": {
        "colab": {
          "base_uri": "https://localhost:8080/"
        },
        "id": "FW303nrwn4ru",
        "outputId": "d05201f9-1b4e-4978-e689-60ee9208d8b9"
      },
      "execution_count": 31,
      "outputs": [
        {
          "output_type": "execute_result",
          "data": {
            "text/plain": [
              "True"
            ]
          },
          "metadata": {},
          "execution_count": 31
        }
      ]
    },
    {
      "cell_type": "code",
      "source": [
        "student_object.get_grade()"
      ],
      "metadata": {
        "colab": {
          "base_uri": "https://localhost:8080/",
          "height": 36
        },
        "id": "U2nY52rVoygT",
        "outputId": "544680df-c7a0-4a07-9818-4701172faa53"
      },
      "execution_count": 32,
      "outputs": [
        {
          "output_type": "execute_result",
          "data": {
            "text/plain": [
              "'A'"
            ],
            "application/vnd.google.colaboratory.intrinsic+json": {
              "type": "string"
            }
          },
          "metadata": {},
          "execution_count": 32
        }
      ]
    },
    {
      "cell_type": "code",
      "source": [
        "def re(a,b):\n",
        "  return a*b"
      ],
      "metadata": {
        "id": "ZCUBs3ekqZH1"
      },
      "execution_count": 35,
      "outputs": []
    },
    {
      "cell_type": "code",
      "source": [
        "add=re(2,5)\n",
        "print(add)"
      ],
      "metadata": {
        "colab": {
          "base_uri": "https://localhost:8080/"
        },
        "id": "GwXA44y5rWRS",
        "outputId": "b5cadc54-2a28-4fb7-f0be-1e19de9f27dd"
      },
      "execution_count": 36,
      "outputs": [
        {
          "output_type": "stream",
          "name": "stdout",
          "text": [
            "10\n"
          ]
        }
      ]
    }
  ]
}