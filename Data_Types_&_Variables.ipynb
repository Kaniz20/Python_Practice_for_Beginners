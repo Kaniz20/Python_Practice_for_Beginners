{
  "nbformat": 4,
  "nbformat_minor": 0,
  "metadata": {
    "colab": {
      "provenance": [],
      "authorship_tag": "ABX9TyMRzrqIDooaVc0T/J0SoO69",
      "include_colab_link": true
    },
    "kernelspec": {
      "name": "python3",
      "display_name": "Python 3"
    },
    "language_info": {
      "name": "python"
    }
  },
  "cells": [
    {
      "cell_type": "markdown",
      "metadata": {
        "id": "view-in-github",
        "colab_type": "text"
      },
      "source": [
        "<a href=\"https://colab.research.google.com/github/Kaniz20/Python_Practice_for_Beginners/blob/main/Data_Types_%26_Variables.ipynb\" target=\"_parent\"><img src=\"https://colab.research.google.com/assets/colab-badge.svg\" alt=\"Open In Colab\"/></a>"
      ]
    },
    {
      "cell_type": "markdown",
      "source": [
        "#Data Type\n",
        "\n",
        "| **Name**       | **Type** | **Description**                                                  | **Example**                              |\n",
        "| -------------- | -------- | ---------------------------------------------------------------- | ---------------------------------------- |\n",
        "| Integers       | `int`    | Positive or negative whole numbers with no decimal point.        | `7`, `31`, `35`                          |\n",
        "| Floating Point | `float`  | Represent real numbers, written with a decimal point.            | `2.01`, `9.990`, `1.0`                   |\n",
        "| String         | `str`    | A collection of characters enclosed in quotes.                   | `\"CR7\"`, `'messi'`, `\"500\"`              |\n",
        "| Lists          | `list`   | A collection of arbitrary (mixed) objects.                       | `['Hello world', 100, 2.33]`             |\n",
        "| Tuples         | `tuple`  | Like lists but **immutable** (cannot be changed after creation). | `(15, 9.45, \"Hello\")`                    |\n",
        "| Dictionaries   | `dict`   | Unordered key–value pairs.                                       | `{\"Name\":\"Abu Bakar\", \"Roll\":\"1808031\"}` |\n",
        "| Sets           | `set`    | Unordered collection of **unique** and **immutable** objects.    | `{'a', 'Z'}`                             |\n",
        "| Booleans       | `bool`   | Logical values for truth states.                                 | `True`, `False`                          |\n"
      ],
      "metadata": {
        "id": "NHlM2V_FEIUa"
      }
    },
    {
      "cell_type": "markdown",
      "source": [
        "#Using type() keyword"
      ],
      "metadata": {
        "id": "9RCEwYMp-qfN"
      }
    },
    {
      "cell_type": "code",
      "source": [
        "type(30)"
      ],
      "metadata": {
        "colab": {
          "base_uri": "https://localhost:8080/"
        },
        "id": "XBMSPojq-tBO",
        "outputId": "adf230ca-b364-4e00-951e-f8a40ff3ee7b"
      },
      "execution_count": 1,
      "outputs": [
        {
          "output_type": "execute_result",
          "data": {
            "text/plain": [
              "int"
            ]
          },
          "metadata": {},
          "execution_count": 1
        }
      ]
    },
    {
      "cell_type": "code",
      "source": [
        "type(30.44)"
      ],
      "metadata": {
        "colab": {
          "base_uri": "https://localhost:8080/"
        },
        "id": "FK8YB4NpAknK",
        "outputId": "4644d4b9-2dad-40c8-f9e3-5c9a7d3b131e"
      },
      "execution_count": 2,
      "outputs": [
        {
          "output_type": "execute_result",
          "data": {
            "text/plain": [
              "float"
            ]
          },
          "metadata": {},
          "execution_count": 2
        }
      ]
    },
    {
      "cell_type": "code",
      "source": [
        "type('k')"
      ],
      "metadata": {
        "colab": {
          "base_uri": "https://localhost:8080/"
        },
        "id": "n3okO3b4ApRJ",
        "outputId": "9e9a069e-7cec-425f-c70b-fe48b1040692"
      },
      "execution_count": 3,
      "outputs": [
        {
          "output_type": "execute_result",
          "data": {
            "text/plain": [
              "str"
            ]
          },
          "metadata": {},
          "execution_count": 3
        }
      ]
    },
    {
      "cell_type": "code",
      "source": [
        "type('kaniz')"
      ],
      "metadata": {
        "colab": {
          "base_uri": "https://localhost:8080/"
        },
        "id": "4LpUeoD4AtZW",
        "outputId": "0247eebd-be8b-492a-c2d1-ff99b0450ee6"
      },
      "execution_count": 4,
      "outputs": [
        {
          "output_type": "execute_result",
          "data": {
            "text/plain": [
              "str"
            ]
          },
          "metadata": {},
          "execution_count": 4
        }
      ]
    },
    {
      "cell_type": "code",
      "source": [
        "type(['kaniz',22,'cse'])"
      ],
      "metadata": {
        "colab": {
          "base_uri": "https://localhost:8080/"
        },
        "id": "Mp5Q_tPLAxHw",
        "outputId": "2cad1c6e-ca0a-4358-870e-d8070f19a15f"
      },
      "execution_count": 5,
      "outputs": [
        {
          "output_type": "execute_result",
          "data": {
            "text/plain": [
              "list"
            ]
          },
          "metadata": {},
          "execution_count": 5
        }
      ]
    },
    {
      "cell_type": "code",
      "source": [
        "type(('kaniz',22,'cse'))"
      ],
      "metadata": {
        "colab": {
          "base_uri": "https://localhost:8080/"
        },
        "id": "h6bfHo9vA3Gb",
        "outputId": "40870eab-db12-42ac-9f95-2abb8ae7fba4"
      },
      "execution_count": 6,
      "outputs": [
        {
          "output_type": "execute_result",
          "data": {
            "text/plain": [
              "tuple"
            ]
          },
          "metadata": {},
          "execution_count": 6
        }
      ]
    },
    {
      "cell_type": "code",
      "source": [
        "type({'name':'kaniz','age':22})"
      ],
      "metadata": {
        "colab": {
          "base_uri": "https://localhost:8080/"
        },
        "id": "tl3oylmmA71Y",
        "outputId": "9a8bffa5-c2c4-43d6-a906-5e6400d565a0"
      },
      "execution_count": 8,
      "outputs": [
        {
          "output_type": "execute_result",
          "data": {
            "text/plain": [
              "dict"
            ]
          },
          "metadata": {},
          "execution_count": 8
        }
      ]
    },
    {
      "cell_type": "code",
      "source": [
        "type({'a',9})"
      ],
      "metadata": {
        "colab": {
          "base_uri": "https://localhost:8080/"
        },
        "id": "ObQKg952BUpv",
        "outputId": "63310649-931d-4fd4-d36a-9ab8012fd900"
      },
      "execution_count": 9,
      "outputs": [
        {
          "output_type": "execute_result",
          "data": {
            "text/plain": [
              "set"
            ]
          },
          "metadata": {},
          "execution_count": 9
        }
      ]
    },
    {
      "cell_type": "markdown",
      "source": [
        "#Variables\n",
        "\n",
        "Rules for Variable Names in Python\n",
        "\n",
        "✅ Must start with a letter or an underscore (_).\n",
        "\n",
        "❌ Cannot start with a number.\n",
        "\n",
        "✅ Can only contain alphanumeric characters and underscores (A–Z, a–z, 0–9, _).\n",
        "\n",
        "✅ Variable names are case-sensitive.\n",
        "\n",
        "Example: age, Age, and AGE are three different variables.\n",
        "\n",
        "❌ Cannot use Python keywords (like if, for, while, class, True, None) as variable names."
      ],
      "metadata": {
        "id": "PrEKvkvsBntb"
      }
    },
    {
      "cell_type": "code",
      "source": [
        "'Hello'"
      ],
      "metadata": {
        "colab": {
          "base_uri": "https://localhost:8080/",
          "height": 36
        },
        "id": "NWUHjrE1BInX",
        "outputId": "2317aa4f-8dd1-4ecc-dab6-a7e957e4d406"
      },
      "execution_count": 10,
      "outputs": [
        {
          "output_type": "execute_result",
          "data": {
            "text/plain": [
              "'Hello'"
            ],
            "application/vnd.google.colaboratory.intrinsic+json": {
              "type": "string"
            }
          },
          "metadata": {},
          "execution_count": 10
        }
      ]
    },
    {
      "cell_type": "code",
      "source": [
        "name=\"Hello\""
      ],
      "metadata": {
        "id": "EugEESohBzMc"
      },
      "execution_count": 11,
      "outputs": []
    },
    {
      "cell_type": "code",
      "source": [
        "print(name)"
      ],
      "metadata": {
        "colab": {
          "base_uri": "https://localhost:8080/"
        },
        "id": "fJ93H_mCCuZY",
        "outputId": "d5199c2f-dfc4-4091-ddf8-88068d6a3511"
      },
      "execution_count": 21,
      "outputs": [
        {
          "output_type": "stream",
          "name": "stdout",
          "text": [
            "Hello\n"
          ]
        }
      ]
    },
    {
      "cell_type": "code",
      "source": [
        "print(name +\" kaniz fatema\")"
      ],
      "metadata": {
        "colab": {
          "base_uri": "https://localhost:8080/"
        },
        "id": "va_C_LpyB9P_",
        "outputId": "4af95b64-2a3a-414a-b3fa-e4c104dc5e49"
      },
      "execution_count": 23,
      "outputs": [
        {
          "output_type": "stream",
          "name": "stdout",
          "text": [
            "Hello kaniz fatema\n"
          ]
        }
      ]
    },
    {
      "cell_type": "code",
      "source": [
        "age=22+40"
      ],
      "metadata": {
        "id": "C3q0cmkgCPi1"
      },
      "execution_count": 19,
      "outputs": []
    },
    {
      "cell_type": "code",
      "source": [
        "print(age)"
      ],
      "metadata": {
        "colab": {
          "base_uri": "https://localhost:8080/"
        },
        "id": "yOdsON-jCftE",
        "outputId": "09b22bbc-bdd3-4f8c-833e-d7ecd125a2be"
      },
      "execution_count": 20,
      "outputs": [
        {
          "output_type": "stream",
          "name": "stdout",
          "text": [
            "62\n"
          ]
        }
      ]
    },
    {
      "cell_type": "code",
      "source": [
        "weight,height=50,5.1"
      ],
      "metadata": {
        "id": "LvrXD2DdDdFO"
      },
      "execution_count": 24,
      "outputs": []
    },
    {
      "cell_type": "code",
      "source": [
        "print(weight,height)"
      ],
      "metadata": {
        "colab": {
          "base_uri": "https://localhost:8080/"
        },
        "id": "Gj-Vn4gdDqGq",
        "outputId": "d4046412-8840-4bce-962c-ba2738d79ac7"
      },
      "execution_count": 25,
      "outputs": [
        {
          "output_type": "stream",
          "name": "stdout",
          "text": [
            "50 5.1\n"
          ]
        }
      ]
    },
    {
      "cell_type": "markdown",
      "source": [
        "#**🎉** Congratulations! 🎉"
      ],
      "metadata": {
        "id": "cBpKQAO3Dvfw"
      }
    }
  ]
}