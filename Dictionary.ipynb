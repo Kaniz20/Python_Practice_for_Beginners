{
  "nbformat": 4,
  "nbformat_minor": 0,
  "metadata": {
    "colab": {
      "provenance": [],
      "authorship_tag": "ABX9TyMDWZNaKRWCfZLwmO7mex2Z",
      "include_colab_link": true
    },
    "kernelspec": {
      "name": "python3",
      "display_name": "Python 3"
    },
    "language_info": {
      "name": "python"
    }
  },
  "cells": [
    {
      "cell_type": "markdown",
      "metadata": {
        "id": "view-in-github",
        "colab_type": "text"
      },
      "source": [
        "<a href=\"https://colab.research.google.com/github/Kaniz20/Python_Practice_for_Beginners/blob/main/Dictionary.ipynb\" target=\"_parent\"><img src=\"https://colab.research.google.com/assets/colab-badge.svg\" alt=\"Open In Colab\"/></a>"
      ]
    },
    {
      "cell_type": "markdown",
      "source": [
        "#  Dictionary Basics\n",
        "\n",
        "- Dictionaries are **unordered key-value pairs**  \n",
        "- Written with **curly brackets `{ }`**  \n",
        "- Values can be of **any type**  \n",
        "- Keys must be of an **immutable data type** (e.g., strings, numbers, tuples)  \n",
        "\n",
        "# Example:\n",
        "```python\n",
        "intro = {\"key1\": \"value1\", \"key2\": \"value2\"}\n",
        "print(intro)\n"
      ],
      "metadata": {
        "id": "ko29el4DKwlP"
      }
    },
    {
      "cell_type": "code",
      "source": [
        "dictionary={'name':'kaniz','age': 22,'city':'istanbul'}\n",
        "print(dictionary)"
      ],
      "metadata": {
        "colab": {
          "base_uri": "https://localhost:8080/"
        },
        "id": "kzVkWRlMK3fh",
        "outputId": "d10581b3-5ed5-4a4f-e0c3-50b88dce893c"
      },
      "execution_count": 1,
      "outputs": [
        {
          "output_type": "stream",
          "name": "stdout",
          "text": [
            "{'name': 'kaniz', 'age': 22, 'city': 'istanbul'}\n"
          ]
        }
      ]
    },
    {
      "cell_type": "code",
      "source": [
        "dictionary"
      ],
      "metadata": {
        "colab": {
          "base_uri": "https://localhost:8080/"
        },
        "id": "Bef7dxs3NMLM",
        "outputId": "21095052-c58d-4241-cbcd-7817578ec64f"
      },
      "execution_count": 6,
      "outputs": [
        {
          "output_type": "execute_result",
          "data": {
            "text/plain": [
              "{'name': 'kaniz', 'age': 22, 'city': 'istanbul'}"
            ]
          },
          "metadata": {},
          "execution_count": 6
        }
      ]
    },
    {
      "cell_type": "code",
      "source": [
        "emty_dictionary={}"
      ],
      "metadata": {
        "id": "k8DSGdAPOQFV"
      },
      "execution_count": 25,
      "outputs": []
    },
    {
      "cell_type": "code",
      "source": [
        "emty_dictionary[0]=\"Red\"\n",
        "emty_dictionary[1]=\"Blue\"\n",
        "emty_dictionary[2]=\"Green\""
      ],
      "metadata": {
        "id": "Zhlxup-rOB8G"
      },
      "execution_count": 27,
      "outputs": []
    },
    {
      "cell_type": "code",
      "source": [
        "emty_dictionary"
      ],
      "metadata": {
        "colab": {
          "base_uri": "https://localhost:8080/"
        },
        "id": "uB36Um2KRsGi",
        "outputId": "b2032f99-7609-4f83-b1cb-10c3acbc80a3"
      },
      "execution_count": 28,
      "outputs": [
        {
          "output_type": "execute_result",
          "data": {
            "text/plain": [
              "{0: 'Red', 1: 'Blue', 2: 'Green'}"
            ]
          },
          "metadata": {},
          "execution_count": 28
        }
      ]
    },
    {
      "cell_type": "code",
      "source": [
        "emty_dictionary[\"new_dictionary\"]={'key1':'value1','key2':'value2'}"
      ],
      "metadata": {
        "id": "s7aH0xXqNyoX"
      },
      "execution_count": 29,
      "outputs": []
    },
    {
      "cell_type": "code",
      "source": [
        "emty_dictionary"
      ],
      "metadata": {
        "colab": {
          "base_uri": "https://localhost:8080/"
        },
        "id": "YKIcwNcuNsyr",
        "outputId": "efbe6da9-3211-4492-c97d-e2bfd1bacd7c"
      },
      "execution_count": 30,
      "outputs": [
        {
          "output_type": "execute_result",
          "data": {
            "text/plain": [
              "{0: 'Red',\n",
              " 1: 'Blue',\n",
              " 2: 'Green',\n",
              " 'new_dictionary': {'key1': 'value1', 'key2': 'value2'}}"
            ]
          },
          "metadata": {},
          "execution_count": 30
        }
      ]
    },
    {
      "cell_type": "code",
      "source": [
        "emty_dictionary[1]"
      ],
      "metadata": {
        "colab": {
          "base_uri": "https://localhost:8080/",
          "height": 36
        },
        "id": "HZUpFiC9SoFf",
        "outputId": "e9f399c7-ee90-4f6c-c2a7-6ee01680dcda"
      },
      "execution_count": 31,
      "outputs": [
        {
          "output_type": "execute_result",
          "data": {
            "text/plain": [
              "'Blue'"
            ],
            "application/vnd.google.colaboratory.intrinsic+json": {
              "type": "string"
            }
          },
          "metadata": {},
          "execution_count": 31
        }
      ]
    },
    {
      "cell_type": "code",
      "source": [
        "emty_dictionary[2]"
      ],
      "metadata": {
        "colab": {
          "base_uri": "https://localhost:8080/",
          "height": 36
        },
        "id": "WyVDrgOtSwzM",
        "outputId": "c6e40f28-59c2-488b-df11-0157d86c1b52"
      },
      "execution_count": 32,
      "outputs": [
        {
          "output_type": "execute_result",
          "data": {
            "text/plain": [
              "'Green'"
            ],
            "application/vnd.google.colaboratory.intrinsic+json": {
              "type": "string"
            }
          },
          "metadata": {},
          "execution_count": 32
        }
      ]
    },
    {
      "cell_type": "code",
      "source": [
        "emty_dictionary[\"new_dictionary\"][\"key1\"]"
      ],
      "metadata": {
        "colab": {
          "base_uri": "https://localhost:8080/",
          "height": 36
        },
        "id": "oQxWpjBMS3eY",
        "outputId": "594c6de6-242d-467a-a541-31f047d4ab7a"
      },
      "execution_count": 34,
      "outputs": [
        {
          "output_type": "execute_result",
          "data": {
            "text/plain": [
              "'value1'"
            ],
            "application/vnd.google.colaboratory.intrinsic+json": {
              "type": "string"
            }
          },
          "metadata": {},
          "execution_count": 34
        }
      ]
    },
    {
      "cell_type": "code",
      "source": [
        "emty_dictionary.items()"
      ],
      "metadata": {
        "colab": {
          "base_uri": "https://localhost:8080/"
        },
        "id": "4WIg2_-1TUs5",
        "outputId": "e6118d3c-194e-4674-c108-b0e409d3b1bd"
      },
      "execution_count": 35,
      "outputs": [
        {
          "output_type": "execute_result",
          "data": {
            "text/plain": [
              "dict_items([(0, 'Red'), (1, 'Blue'), (2, 'Green'), ('new_dictionary', {'key1': 'value1', 'key2': 'value2'})])"
            ]
          },
          "metadata": {},
          "execution_count": 35
        }
      ]
    },
    {
      "cell_type": "code",
      "source": [
        "emty_dictionary.keys()\n"
      ],
      "metadata": {
        "colab": {
          "base_uri": "https://localhost:8080/"
        },
        "id": "cprga8SRThkf",
        "outputId": "da2ed5dc-20eb-4a3c-cab3-c8557f96e898"
      },
      "execution_count": 36,
      "outputs": [
        {
          "output_type": "execute_result",
          "data": {
            "text/plain": [
              "dict_keys([0, 1, 2, 'new_dictionary'])"
            ]
          },
          "metadata": {},
          "execution_count": 36
        }
      ]
    },
    {
      "cell_type": "code",
      "source": [
        "emty_dictionary.values()"
      ],
      "metadata": {
        "colab": {
          "base_uri": "https://localhost:8080/"
        },
        "id": "nP6gBW93Tkyg",
        "outputId": "452ee3b8-83a5-4a0e-b3c0-9271050b25af"
      },
      "execution_count": 37,
      "outputs": [
        {
          "output_type": "execute_result",
          "data": {
            "text/plain": [
              "dict_values(['Red', 'Blue', 'Green', {'key1': 'value1', 'key2': 'value2'}])"
            ]
          },
          "metadata": {},
          "execution_count": 37
        }
      ]
    },
    {
      "cell_type": "code",
      "source": [
        "emty_dictionary.clear()"
      ],
      "metadata": {
        "id": "ZtZ-15HFTnFT"
      },
      "execution_count": 38,
      "outputs": []
    },
    {
      "cell_type": "code",
      "source": [
        "emty_dictionary"
      ],
      "metadata": {
        "colab": {
          "base_uri": "https://localhost:8080/"
        },
        "id": "O3CmJK2xTtEW",
        "outputId": "a3bd1ada-54a8-4a62-f7d5-92f10d1299ee"
      },
      "execution_count": 39,
      "outputs": [
        {
          "output_type": "execute_result",
          "data": {
            "text/plain": [
              "{}"
            ]
          },
          "metadata": {},
          "execution_count": 39
        }
      ]
    }
  ]
}