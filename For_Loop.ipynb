{
  "nbformat": 4,
  "nbformat_minor": 0,
  "metadata": {
    "colab": {
      "provenance": [],
      "authorship_tag": "ABX9TyNDszn6jLvn9H7GuN0erKaV",
      "include_colab_link": true
    },
    "kernelspec": {
      "name": "python3",
      "display_name": "Python 3"
    },
    "language_info": {
      "name": "python"
    }
  },
  "cells": [
    {
      "cell_type": "markdown",
      "metadata": {
        "id": "view-in-github",
        "colab_type": "text"
      },
      "source": [
        "<a href=\"https://colab.research.google.com/github/Kaniz20/Python_Practice_for_Beginners/blob/main/For_Loop.ipynb\" target=\"_parent\"><img src=\"https://colab.research.google.com/assets/colab-badge.svg\" alt=\"Open In Colab\"/></a>"
      ]
    },
    {
      "cell_type": "markdown",
      "source": [
        "# For Loop in Python\n",
        "\n",
        "- Used to **iterate over a sequence** → string, list, set, dictionary, tuple, or any iterable object  \n",
        "\n",
        "#Syntax:\n",
        "```python\n",
        "for variable_name in sequence:\n",
        "    print(variable_name)\n"
      ],
      "metadata": {
        "id": "-TkGEhSQlMGs"
      }
    },
    {
      "cell_type": "markdown",
      "source": [
        "#For Strings Sequence"
      ],
      "metadata": {
        "id": "ZPO5kcpHlUEW"
      }
    },
    {
      "cell_type": "code",
      "source": [
        "name=\"kaniz Fatema Anika\""
      ],
      "metadata": {
        "id": "hMpSs93ulYZe"
      },
      "execution_count": 1,
      "outputs": []
    },
    {
      "cell_type": "code",
      "source": [
        "for vari_name in name:\n",
        "  print(vari_name)"
      ],
      "metadata": {
        "colab": {
          "base_uri": "https://localhost:8080/"
        },
        "id": "WlNb0e1qle-r",
        "outputId": "e1af5ca8-023d-475e-ea8c-c284a94651c3"
      },
      "execution_count": 2,
      "outputs": [
        {
          "output_type": "stream",
          "name": "stdout",
          "text": [
            "k\n",
            "a\n",
            "n\n",
            "i\n",
            "z\n",
            " \n",
            "F\n",
            "a\n",
            "t\n",
            "e\n",
            "m\n",
            "a\n",
            " \n",
            "A\n",
            "n\n",
            "i\n",
            "k\n",
            "a\n"
          ]
        }
      ]
    },
    {
      "cell_type": "markdown",
      "source": [
        "#For List Sequence"
      ],
      "metadata": {
        "id": "p6F-7jFgltsB"
      }
    },
    {
      "cell_type": "code",
      "source": [
        "list_name=[22,'anika','cse',1,2,3]"
      ],
      "metadata": {
        "id": "9XaZa2A9lxy5"
      },
      "execution_count": 4,
      "outputs": []
    },
    {
      "cell_type": "code",
      "source": [
        "for list_vari in list_name:\n",
        "  print(list_vari)"
      ],
      "metadata": {
        "colab": {
          "base_uri": "https://localhost:8080/"
        },
        "id": "RtjH-Dnol831",
        "outputId": "a5dd3f35-53a1-40da-bd96-32491eb1f137"
      },
      "execution_count": 5,
      "outputs": [
        {
          "output_type": "stream",
          "name": "stdout",
          "text": [
            "22\n",
            "anika\n",
            "cse\n",
            "1\n",
            "2\n",
            "3\n"
          ]
        }
      ]
    },
    {
      "cell_type": "code",
      "source": [
        "numbers=[1,2,5,7,8,30,50]\n",
        "sum=0\n",
        "for num in numbers:\n",
        "  sum=sum+num\n",
        "print(sum)\n",
        "print(\"Summation :\",sum)"
      ],
      "metadata": {
        "colab": {
          "base_uri": "https://localhost:8080/"
        },
        "id": "hhfKonPDmDKF",
        "outputId": "a0188786-79c3-414d-aac6-9b50200c0deb"
      },
      "execution_count": 6,
      "outputs": [
        {
          "output_type": "stream",
          "name": "stdout",
          "text": [
            "103\n",
            "Summation : 103\n"
          ]
        }
      ]
    },
    {
      "cell_type": "code",
      "source": [
        "for x in range(10):\n",
        "  print(x)"
      ],
      "metadata": {
        "colab": {
          "base_uri": "https://localhost:8080/"
        },
        "id": "dqh_PEWdmwYq",
        "outputId": "966348ef-6b36-43d7-f7ad-0ac42f201e47"
      },
      "execution_count": 7,
      "outputs": [
        {
          "output_type": "stream",
          "name": "stdout",
          "text": [
            "0\n",
            "1\n",
            "2\n",
            "3\n",
            "4\n",
            "5\n",
            "6\n",
            "7\n",
            "8\n",
            "9\n"
          ]
        }
      ]
    },
    {
      "cell_type": "code",
      "source": [
        "for y in range(5,10,2):\n",
        "  print(y)"
      ],
      "metadata": {
        "colab": {
          "base_uri": "https://localhost:8080/"
        },
        "id": "Ln5yhcHrnGfu",
        "outputId": "6108c220-82b9-4b67-b289-86fd5fc22acb"
      },
      "execution_count": 8,
      "outputs": [
        {
          "output_type": "stream",
          "name": "stdout",
          "text": [
            "5\n",
            "7\n",
            "9\n"
          ]
        }
      ]
    }
  ]
}