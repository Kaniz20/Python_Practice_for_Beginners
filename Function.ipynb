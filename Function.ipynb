{
  "nbformat": 4,
  "nbformat_minor": 0,
  "metadata": {
    "colab": {
      "provenance": [],
      "authorship_tag": "ABX9TyM5+fCb9joIIDwV2MP3ziN0",
      "include_colab_link": true
    },
    "kernelspec": {
      "name": "python3",
      "display_name": "Python 3"
    },
    "language_info": {
      "name": "python"
    }
  },
  "cells": [
    {
      "cell_type": "markdown",
      "metadata": {
        "id": "view-in-github",
        "colab_type": "text"
      },
      "source": [
        "<a href=\"https://colab.research.google.com/github/Kaniz20/Python_Practice_for_Beginners/blob/main/Function.ipynb\" target=\"_parent\"><img src=\"https://colab.research.google.com/assets/colab-badge.svg\" alt=\"Open In Colab\"/></a>"
      ]
    },
    {
      "cell_type": "markdown",
      "source": [
        "# 🔹 Functions in Python\n",
        "\n",
        "- A **function** is a block of code that runs only when it is **called**  \n",
        "- Functions help in reusability and organization of code  \n",
        "\n",
        " Syntax:\n",
        "```python\n",
        "def function_name():\n",
        "    statements\n",
        "\n",
        "\n",
        "\n"
      ],
      "metadata": {
        "id": "cDsj1sRrK7-o"
      }
    },
    {
      "cell_type": "markdown",
      "source": [
        "# 🔹 Function with Parameter (After Passing)\n",
        "\n",
        "- When you **call the function** and give a value (argument),  \n",
        "  that value is passed to the parameter inside the function.  \n",
        " Example:\n",
        "```python\n",
        "def greet(name):\n",
        "    print(\"Hello \" + name + \"! I am from function\")\n",
        "\n",
        "# Passing parameters\n",
        "greet(\"DIU Student\")\n"
      ],
      "metadata": {
        "id": "G7PMdxvONOXe"
      }
    },
    {
      "cell_type": "code",
      "source": [
        "def greeting(): #heading defined\n",
        "   print(\"Hello! I am from function\")\n",
        "greeting() #calling the function\n"
      ],
      "metadata": {
        "colab": {
          "base_uri": "https://localhost:8080/"
        },
        "id": "PxvgTT6GNUM4",
        "outputId": "4652dfe3-17d2-4b27-af37-e0b692d20969"
      },
      "execution_count": 1,
      "outputs": [
        {
          "output_type": "stream",
          "name": "stdout",
          "text": [
            "Hello! I am from function\n"
          ]
        }
      ]
    },
    {
      "cell_type": "code",
      "source": [
        "def greeting(name): #heading defined\n",
        "   print(\"Hello! \" + name)\n",
        "greeting(\"DIU Student\") #calling the function\n"
      ],
      "metadata": {
        "colab": {
          "base_uri": "https://localhost:8080/"
        },
        "id": "TB4y1rlFN8u6",
        "outputId": "2074e623-3815-4c1c-9f68-d3fe362e818e"
      },
      "execution_count": 2,
      "outputs": [
        {
          "output_type": "stream",
          "name": "stdout",
          "text": [
            "Hello! DIU Student\n"
          ]
        }
      ]
    },
    {
      "cell_type": "code",
      "source": [
        "def greeting(name=\"kaniz\"): #heading defined and default parameter\n",
        "   print(\"Hello! \" + name)\n",
        "greeting(\"DIU Student\") #calling the function"
      ],
      "metadata": {
        "colab": {
          "base_uri": "https://localhost:8080/"
        },
        "id": "RAPqDVpmOUWN",
        "outputId": "80cc8d68-9935-4c1f-fe7c-2f2976d1c547"
      },
      "execution_count": 3,
      "outputs": [
        {
          "output_type": "stream",
          "name": "stdout",
          "text": [
            "Hello! DIU Student\n"
          ]
        }
      ]
    },
    {
      "cell_type": "code",
      "source": [
        "def greeting(name=\"kaniz\"): #default parameter\n",
        "   print(\"Hello! \" + name)\n",
        "greeting() #calling the function"
      ],
      "metadata": {
        "colab": {
          "base_uri": "https://localhost:8080/"
        },
        "id": "O3PL7zsHOofD",
        "outputId": "f341b918-b78b-4966-ab81-a18fc15f528b"
      },
      "execution_count": 4,
      "outputs": [
        {
          "output_type": "stream",
          "name": "stdout",
          "text": [
            "Hello! kaniz\n"
          ]
        }
      ]
    },
    {
      "cell_type": "code",
      "source": [
        "def random_function (name=\"kaniz\",age=22):\n",
        "   name=input(\"Enter your name:\")\n",
        "   age=input(\"Enter your age:\")\n",
        "   print(\"Hello {0} you are {1} years old\".format(name,age))\n",
        "\n",
        "random_function()"
      ],
      "metadata": {
        "colab": {
          "base_uri": "https://localhost:8080/"
        },
        "id": "4Lpsz6hGPOTs",
        "outputId": "a30fae88-c63b-4c78-a296-de600434c5ea"
      },
      "execution_count": 8,
      "outputs": [
        {
          "output_type": "stream",
          "name": "stdout",
          "text": [
            "Enter your name:anika\n",
            "Enter your age:20\n",
            "Hello anika you are 20 years old\n"
          ]
        }
      ]
    },
    {
      "cell_type": "code",
      "source": [
        "def fun(color=\"red\",num=15):\n",
        "  #statements\n",
        "  color=input(\"Enter your favourite color:\")\n",
        "  num=input(\"Enter your favourite number:\")\n",
        "  #print(\"My favourite color is {0} and my favourite number is {1}\".format(color,num))\n",
        "  print(f\"My favourite color is {color} and my favourite number is {num}\")\n",
        "fun()"
      ],
      "metadata": {
        "colab": {
          "base_uri": "https://localhost:8080/"
        },
        "id": "Uys7b8p3Rw0M",
        "outputId": "89995826-a944-4b76-e9a2-a72c0ee1f3b0"
      },
      "execution_count": 9,
      "outputs": [
        {
          "output_type": "stream",
          "name": "stdout",
          "text": [
            "Enter your favourite color:blue\n",
            "Enter your favourite number:2\n",
            "My favourite color is blue and my favourite number is 2\n"
          ]
        }
      ]
    }
  ]
}