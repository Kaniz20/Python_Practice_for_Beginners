{
  "nbformat": 4,
  "nbformat_minor": 0,
  "metadata": {
    "colab": {
      "provenance": [],
      "authorship_tag": "ABX9TyNZrUk1ADPIBOBQZetO/n3A",
      "include_colab_link": true
    },
    "kernelspec": {
      "name": "python3",
      "display_name": "Python 3"
    },
    "language_info": {
      "name": "python"
    }
  },
  "cells": [
    {
      "cell_type": "markdown",
      "metadata": {
        "id": "view-in-github",
        "colab_type": "text"
      },
      "source": [
        "<a href=\"https://colab.research.google.com/github/Kaniz20/Python_Practice_for_Beginners/blob/main/Inheritance.ipynb\" target=\"_parent\"><img src=\"https://colab.research.google.com/assets/colab-badge.svg\" alt=\"Open In Colab\"/></a>"
      ]
    },
    {
      "cell_type": "markdown",
      "source": [
        "# Parent class\n",
        "    class ParentClass:\n",
        "    # body of ParentClass\n",
        "    pass\n",
        "\n",
        "# Child class (inherits ParentClass)\n",
        "    class ChildClass(ParentClass):\n",
        "    # body of ChildClass\n",
        "    pass\n"
      ],
      "metadata": {
        "id": "OpoZNNrZuPar"
      }
    },
    {
      "cell_type": "code",
      "execution_count": 68,
      "metadata": {
        "id": "4PR6sdEPtke7"
      },
      "outputs": [],
      "source": [
        "class Company:\n",
        "  def __init__(self,employee_name,employee_id):\n",
        "    self.employee_name = employee_name\n",
        "    self.employee_id = employee_id\n",
        "    print(\"Our First Company!\")\n",
        "\n",
        "  def office_room(self):\n",
        "      print(\"This is our office room\")\n"
      ]
    },
    {
      "cell_type": "code",
      "source": [
        "company_object=Company(\"kaniz\",92)"
      ],
      "metadata": {
        "colab": {
          "base_uri": "https://localhost:8080/"
        },
        "id": "F00Ri1DcwyWR",
        "outputId": "8d0bf86b-b2f1-4196-8f12-00e0e8678ae3"
      },
      "execution_count": 69,
      "outputs": [
        {
          "output_type": "stream",
          "name": "stdout",
          "text": [
            "Our First Company!\n"
          ]
        }
      ]
    },
    {
      "cell_type": "code",
      "source": [
        "company_object.office_room()"
      ],
      "metadata": {
        "colab": {
          "base_uri": "https://localhost:8080/"
        },
        "id": "BGVckeZR3xXn",
        "outputId": "d78aa83d-46ad-4f75-ebe0-57b9bf0046da"
      },
      "execution_count": 70,
      "outputs": [
        {
          "output_type": "stream",
          "name": "stdout",
          "text": [
            "This is our office room\n"
          ]
        }
      ]
    },
    {
      "cell_type": "code",
      "source": [
        "#create a child class\n",
        "class ChildClass(Company):\n",
        "  def __init__(self,employee_name,employee_id):\n",
        "\n",
        "    Company.__init__(self,employee_name,employee_id)\n",
        "\n",
        "  def office_room(self):\n",
        "      print(\"office room\")\n"
      ],
      "metadata": {
        "id": "uQsg4q4bxUTv"
      },
      "execution_count": 77,
      "outputs": []
    },
    {
      "cell_type": "code",
      "source": [
        "child_object=ChildClass(\"kaniz\",92)"
      ],
      "metadata": {
        "colab": {
          "base_uri": "https://localhost:8080/"
        },
        "id": "jHIdXtHjy7Dh",
        "outputId": "ec62348c-bb14-4050-a77c-9b29dadb0c58"
      },
      "execution_count": 78,
      "outputs": [
        {
          "output_type": "stream",
          "name": "stdout",
          "text": [
            "Our First Company!\n"
          ]
        }
      ]
    },
    {
      "cell_type": "code",
      "source": [
        "child_object.office_room()"
      ],
      "metadata": {
        "colab": {
          "base_uri": "https://localhost:8080/"
        },
        "id": "Blm58qPD4iIM",
        "outputId": "447915df-cc5d-49e7-bcd0-a08173d243f7"
      },
      "execution_count": 79,
      "outputs": [
        {
          "output_type": "stream",
          "name": "stdout",
          "text": [
            "office room\n"
          ]
        }
      ]
    },
    {
      "cell_type": "code",
      "source": [
        "child_object.office_room()"
      ],
      "metadata": {
        "colab": {
          "base_uri": "https://localhost:8080/"
        },
        "id": "mHPyGGiL4pCe",
        "outputId": "12f1e824-71c3-4475-f3a6-c68f70022e3c"
      },
      "execution_count": 80,
      "outputs": [
        {
          "output_type": "stream",
          "name": "stdout",
          "text": [
            "office room\n"
          ]
        }
      ]
    }
  ]
}