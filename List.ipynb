{
  "nbformat": 4,
  "nbformat_minor": 0,
  "metadata": {
    "colab": {
      "provenance": [],
      "authorship_tag": "ABX9TyPPF2pzipcECGCfnTGLZNz6",
      "include_colab_link": true
    },
    "kernelspec": {
      "name": "python3",
      "display_name": "Python 3"
    },
    "language_info": {
      "name": "python"
    }
  },
  "cells": [
    {
      "cell_type": "markdown",
      "metadata": {
        "id": "view-in-github",
        "colab_type": "text"
      },
      "source": [
        "<a href=\"https://colab.research.google.com/github/Kaniz20/Python_Practice_for_Beginners/blob/main/List.ipynb\" target=\"_parent\"><img src=\"https://colab.research.google.com/assets/colab-badge.svg\" alt=\"Open In Colab\"/></a>"
      ]
    },
    {
      "cell_type": "markdown",
      "source": [
        "\n",
        "\n",
        "#  Introduction to List\n",
        "\n",
        "- Ordered sequence of elements  \n",
        "- Mutable (changeable)  \n",
        "- Each element = item  \n",
        "- Written inside [ ]  \n"
      ],
      "metadata": {
        "id": "NuzaIbJ5anmA"
      }
    },
    {
      "cell_type": "markdown",
      "source": [
        "# List Methods\n",
        "\n",
        "| Method     | Description                                    |\n",
        "|------------|------------------------------------------------|\n",
        "| `append()` | Add an element to the end of the list          |\n",
        "| `sort()`   | Sort items in ascending order                  |\n",
        "| `count()`  | Returns the count of items in the list         |\n",
        "| `insert()` | Insert an item at a defined index              |\n",
        "| `remove()` | Removes the first matching item from the list  |\n",
        "| `clear()`  | Removes all items from the list                |\n",
        "\n",
        "\n",
        "\n",
        "# 🔹 Built-in Functions with List\n",
        "\n",
        "| Function   | Description                                  |\n",
        "|------------|----------------------------------------------|\n",
        "| `len()`    | Returns the length of the list               |\n",
        "| `max()`    | Returns the maximum element of the list      |\n",
        "| `min()`    | Returns the minimum element of the list      |\n",
        "| `sum()`    | Returns the sum of all numbers in the list   |\n",
        "| `filter()` | Tests each element of a list (True/False)    |\n"
      ],
      "metadata": {
        "id": "jBBSM6HwbjdX"
      }
    },
    {
      "cell_type": "code",
      "source": [
        "list_name=['mango','banana','orange']"
      ],
      "metadata": {
        "id": "NWaVZa1kbnLn"
      },
      "execution_count": 2,
      "outputs": []
    },
    {
      "cell_type": "code",
      "source": [
        "list_name"
      ],
      "metadata": {
        "colab": {
          "base_uri": "https://localhost:8080/"
        },
        "id": "AL-RG9KyfwAV",
        "outputId": "de9a2e04-9138-469c-e0ae-bfda9004fcc0"
      },
      "execution_count": 4,
      "outputs": [
        {
          "output_type": "execute_result",
          "data": {
            "text/plain": [
              "['mango', 'banana', 'orange']"
            ]
          },
          "metadata": {},
          "execution_count": 4
        }
      ]
    },
    {
      "cell_type": "code",
      "source": [
        "another_list=('apple','grapes',1,2,3)"
      ],
      "metadata": {
        "id": "dnSFdl8Ifzgh"
      },
      "execution_count": 5,
      "outputs": []
    },
    {
      "cell_type": "code",
      "source": [
        "another_list"
      ],
      "metadata": {
        "colab": {
          "base_uri": "https://localhost:8080/"
        },
        "id": "ZPNFe0p0gABU",
        "outputId": "46afca86-ebf9-4a89-931d-affe795dd3f5"
      },
      "execution_count": 6,
      "outputs": [
        {
          "output_type": "execute_result",
          "data": {
            "text/plain": [
              "('apple', 'grapes', 1, 2, 3)"
            ]
          },
          "metadata": {},
          "execution_count": 6
        }
      ]
    },
    {
      "cell_type": "code",
      "source": [
        "list_name.append('pineapple')"
      ],
      "metadata": {
        "id": "DIk5opQYgCFN"
      },
      "execution_count": 8,
      "outputs": []
    },
    {
      "cell_type": "code",
      "source": [
        "print(list_name)"
      ],
      "metadata": {
        "colab": {
          "base_uri": "https://localhost:8080/"
        },
        "id": "XIjBy-B-gSLT",
        "outputId": "bd35efac-2ad8-4fc6-9e3a-a03167cd26cc"
      },
      "execution_count": 9,
      "outputs": [
        {
          "output_type": "stream",
          "name": "stdout",
          "text": [
            "['mango', 'banana', 'orange', 'pineapple']\n"
          ]
        }
      ]
    },
    {
      "cell_type": "code",
      "source": [
        "list_name[2]"
      ],
      "metadata": {
        "colab": {
          "base_uri": "https://localhost:8080/",
          "height": 36
        },
        "id": "R0izHku0gVMw",
        "outputId": "817830e4-c437-46a3-96ea-c420fddb1e45"
      },
      "execution_count": 17,
      "outputs": [
        {
          "output_type": "execute_result",
          "data": {
            "text/plain": [
              "'orange'"
            ],
            "application/vnd.google.colaboratory.intrinsic+json": {
              "type": "string"
            }
          },
          "metadata": {},
          "execution_count": 17
        }
      ]
    },
    {
      "cell_type": "code",
      "source": [
        "print(\"{0} is my favourite fruit\".format(list_name[2]))"
      ],
      "metadata": {
        "colab": {
          "base_uri": "https://localhost:8080/"
        },
        "id": "WVgrkrY5gQH6",
        "outputId": "5f02b875-1560-4863-9d21-57d932c1c9f2"
      },
      "execution_count": 20,
      "outputs": [
        {
          "output_type": "stream",
          "name": "stdout",
          "text": [
            "orange is my favourite fruit\n"
          ]
        }
      ]
    },
    {
      "cell_type": "code",
      "source": [
        "list_name"
      ],
      "metadata": {
        "colab": {
          "base_uri": "https://localhost:8080/"
        },
        "id": "AC3ns99sh6cD",
        "outputId": "abd5e8f4-6475-4787-a7c5-2ebcf3a61e52"
      },
      "execution_count": 21,
      "outputs": [
        {
          "output_type": "execute_result",
          "data": {
            "text/plain": [
              "['mango', 'banana', 'orange', 'pineapple']"
            ]
          },
          "metadata": {},
          "execution_count": 21
        }
      ]
    },
    {
      "cell_type": "code",
      "source": [
        "a=list('1367829')"
      ],
      "metadata": {
        "id": "BhdUXBc0g8VK"
      },
      "execution_count": 36,
      "outputs": []
    },
    {
      "cell_type": "code",
      "source": [
        "print(a)"
      ],
      "metadata": {
        "colab": {
          "base_uri": "https://localhost:8080/"
        },
        "id": "4ZHx5scTjByc",
        "outputId": "3ac5833d-c77e-4bb3-b1d1-fc8a1b4424af"
      },
      "execution_count": 37,
      "outputs": [
        {
          "output_type": "stream",
          "name": "stdout",
          "text": [
            "['1', '3', '6', '7', '8', '2', '9']\n"
          ]
        }
      ]
    },
    {
      "cell_type": "code",
      "source": [
        "a.sort()"
      ],
      "metadata": {
        "id": "TqnZtlrjjIz6"
      },
      "execution_count": 38,
      "outputs": []
    },
    {
      "cell_type": "code",
      "source": [
        "print(a)"
      ],
      "metadata": {
        "colab": {
          "base_uri": "https://localhost:8080/"
        },
        "id": "Rx76r0KBjaUK",
        "outputId": "9060f4df-6330-4a34-c677-00d1c5f6da07"
      },
      "execution_count": 39,
      "outputs": [
        {
          "output_type": "stream",
          "name": "stdout",
          "text": [
            "['1', '2', '3', '6', '7', '8', '9']\n"
          ]
        }
      ]
    },
    {
      "cell_type": "code",
      "source": [
        "a.remove(\"7\")"
      ],
      "metadata": {
        "id": "vXK1h-aQji_-"
      },
      "execution_count": 42,
      "outputs": []
    },
    {
      "cell_type": "code",
      "source": [
        "a"
      ],
      "metadata": {
        "colab": {
          "base_uri": "https://localhost:8080/"
        },
        "id": "1IPGe78SkDFa",
        "outputId": "39e7392d-494d-4f81-b4dc-bfae2ce2c53b"
      },
      "execution_count": 43,
      "outputs": [
        {
          "output_type": "execute_result",
          "data": {
            "text/plain": [
              "['1', '2', '3', '6', '8', '9']"
            ]
          },
          "metadata": {},
          "execution_count": 43
        }
      ]
    },
    {
      "cell_type": "code",
      "source": [
        "a.count(2)"
      ],
      "metadata": {
        "colab": {
          "base_uri": "https://localhost:8080/"
        },
        "id": "P_3nMNmgkJTz",
        "outputId": "d8f23044-5b01-4ed6-9c5f-ef1f274397fd"
      },
      "execution_count": 44,
      "outputs": [
        {
          "output_type": "execute_result",
          "data": {
            "text/plain": [
              "0"
            ]
          },
          "metadata": {},
          "execution_count": 44
        }
      ]
    },
    {
      "cell_type": "code",
      "source": [
        "a.reverse()"
      ],
      "metadata": {
        "id": "5n5DHOCVkqmF"
      },
      "execution_count": 50,
      "outputs": []
    },
    {
      "cell_type": "code",
      "source": [
        "print(a)"
      ],
      "metadata": {
        "colab": {
          "base_uri": "https://localhost:8080/"
        },
        "id": "dotnjzXQlSE1",
        "outputId": "edf0baee-cb6a-4d53-ee0a-e2a4d9701d0c"
      },
      "execution_count": 51,
      "outputs": [
        {
          "output_type": "stream",
          "name": "stdout",
          "text": [
            "['9', '8', '6', '3', '2', '1']\n"
          ]
        }
      ]
    },
    {
      "cell_type": "code",
      "source": [
        "create_list=['kaniz','fatema','anika']"
      ],
      "metadata": {
        "id": "BSCm2b6hmKj1"
      },
      "execution_count": 57,
      "outputs": []
    },
    {
      "cell_type": "code",
      "source": [
        "create_list"
      ],
      "metadata": {
        "colab": {
          "base_uri": "https://localhost:8080/"
        },
        "id": "Y4jwAQjAmVnZ",
        "outputId": "e9b15b1e-23fe-4160-9dfa-be95bb20aa17"
      },
      "execution_count": 59,
      "outputs": [
        {
          "output_type": "execute_result",
          "data": {
            "text/plain": [
              "['kaniz', 'fatema', 'anika']"
            ]
          },
          "metadata": {},
          "execution_count": 59
        }
      ]
    },
    {
      "cell_type": "code",
      "source": [
        "create_list.insert(2,\"sima\")"
      ],
      "metadata": {
        "id": "ZIDjeMNUmaJY"
      },
      "execution_count": 61,
      "outputs": []
    },
    {
      "cell_type": "code",
      "source": [
        "print(\"This is new List:\",create_list)"
      ],
      "metadata": {
        "colab": {
          "base_uri": "https://localhost:8080/"
        },
        "id": "yAU7apBamqUp",
        "outputId": "8f68be5f-3501-44bf-dc65-ec2d8bbbcbb9"
      },
      "execution_count": 62,
      "outputs": [
        {
          "output_type": "stream",
          "name": "stdout",
          "text": [
            "This is new List: ['kaniz', 'fatema', 'sima', 'anika']\n"
          ]
        }
      ]
    }
  ]
}