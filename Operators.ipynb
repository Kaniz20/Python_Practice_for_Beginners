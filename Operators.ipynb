{
  "nbformat": 4,
  "nbformat_minor": 0,
  "metadata": {
    "colab": {
      "provenance": [],
      "authorship_tag": "ABX9TyM9RMAscBGqcPhoSPAJ4Ao5",
      "include_colab_link": true
    },
    "kernelspec": {
      "name": "python3",
      "display_name": "Python 3"
    },
    "language_info": {
      "name": "python"
    }
  },
  "cells": [
    {
      "cell_type": "markdown",
      "metadata": {
        "id": "view-in-github",
        "colab_type": "text"
      },
      "source": [
        "<a href=\"https://colab.research.google.com/github/Kaniz20/Python_Practice_for_Beginners/blob/main/Operators.ipynb\" target=\"_parent\"><img src=\"https://colab.research.google.com/assets/colab-badge.svg\" alt=\"Open In Colab\"/></a>"
      ]
    },
    {
      "cell_type": "markdown",
      "source": [
        "#Operators\n",
        "\n",
        "# Python Operators\n",
        "\n",
        "| Category     | Operators                  | Example   | Purpose / Use                                      |\n",
        "|--------------|-----------------------------|-----------|---------------------------------------------------|\n",
        "| **Arithmetic** | `+  -  *  /  %  **  //`   | `a + b`   | Math operations: add, subtract, multiply, divide, modulus, power, floor divide |\n",
        "| **Relational** | `>  <  ==  !=  >=  <=`    | `x > y`   | Compare values → returns `True` / `False`          |\n",
        "| **Logical**    | `and  or  not`            | `x and y` | Combine conditions with Boolean logic              |\n",
        "| **Assignment** | `=  +=  -=  *=  /=  %=`   | `a += b`  | Assign or update variable values                   |\n",
        "| **Special**    | `in , not in`             | `x in y`  | Check membership in lists, strings, tuples, etc.   |\n"
      ],
      "metadata": {
        "id": "3GZLtuQFHn1w"
      }
    },
    {
      "cell_type": "code",
      "source": [
        "3+2"
      ],
      "metadata": {
        "colab": {
          "base_uri": "https://localhost:8080/"
        },
        "id": "jBIkkgaBHuSh",
        "outputId": "3f77ce9f-3f60-4f01-d055-a4cd0b5870c1"
      },
      "execution_count": 1,
      "outputs": [
        {
          "output_type": "execute_result",
          "data": {
            "text/plain": [
              "5"
            ]
          },
          "metadata": {},
          "execution_count": 1
        }
      ]
    },
    {
      "cell_type": "code",
      "source": [
        "3-2"
      ],
      "metadata": {
        "colab": {
          "base_uri": "https://localhost:8080/"
        },
        "id": "mDP0Nf1_IGyP",
        "outputId": "5af07938-a67d-485e-ca1b-67a65d05b287"
      },
      "execution_count": 2,
      "outputs": [
        {
          "output_type": "execute_result",
          "data": {
            "text/plain": [
              "1"
            ]
          },
          "metadata": {},
          "execution_count": 2
        }
      ]
    },
    {
      "cell_type": "code",
      "source": [
        "3*2"
      ],
      "metadata": {
        "colab": {
          "base_uri": "https://localhost:8080/"
        },
        "id": "v12TPH0sIKMK",
        "outputId": "60ac0712-6060-42c0-ada8-62ea6dde1628"
      },
      "execution_count": 3,
      "outputs": [
        {
          "output_type": "execute_result",
          "data": {
            "text/plain": [
              "6"
            ]
          },
          "metadata": {},
          "execution_count": 3
        }
      ]
    },
    {
      "cell_type": "code",
      "source": [
        "3/2  # Normal Division (/) → always gives float result with decimal"
      ],
      "metadata": {
        "colab": {
          "base_uri": "https://localhost:8080/"
        },
        "id": "5GPOf68_IMKz",
        "outputId": "c4613cf3-cc7d-4182-c405-4d2e57437432"
      },
      "execution_count": 7,
      "outputs": [
        {
          "output_type": "execute_result",
          "data": {
            "text/plain": [
              "1.5"
            ]
          },
          "metadata": {},
          "execution_count": 7
        }
      ]
    },
    {
      "cell_type": "code",
      "source": [
        "10/5"
      ],
      "metadata": {
        "colab": {
          "base_uri": "https://localhost:8080/"
        },
        "id": "HCBatAQbIvPf",
        "outputId": "6cdafd37-6d83-4a2f-869b-a2ef580fc890"
      },
      "execution_count": 6,
      "outputs": [
        {
          "output_type": "execute_result",
          "data": {
            "text/plain": [
              "2.0"
            ]
          },
          "metadata": {},
          "execution_count": 6
        }
      ]
    },
    {
      "cell_type": "code",
      "source": [
        "3//2  # Floor Division (//) → removes the decimal part (integer only)"
      ],
      "metadata": {
        "colab": {
          "base_uri": "https://localhost:8080/"
        },
        "id": "mOJfbAl5INkT",
        "outputId": "d7564cb9-511a-46ee-893a-aad838a90806"
      },
      "execution_count": 8,
      "outputs": [
        {
          "output_type": "execute_result",
          "data": {
            "text/plain": [
              "1"
            ]
          },
          "metadata": {},
          "execution_count": 8
        }
      ]
    },
    {
      "cell_type": "code",
      "source": [
        "3%2  # Modulus (%) → gives the remainder of the division"
      ],
      "metadata": {
        "colab": {
          "base_uri": "https://localhost:8080/"
        },
        "id": "XYZUNvuLIOti",
        "outputId": "b97281ae-640b-455a-ff73-cf694f3f47d1"
      },
      "execution_count": 9,
      "outputs": [
        {
          "output_type": "execute_result",
          "data": {
            "text/plain": [
              "1"
            ]
          },
          "metadata": {},
          "execution_count": 9
        }
      ]
    },
    {
      "cell_type": "code",
      "source": [
        "3**2 #base 3 and power 2"
      ],
      "metadata": {
        "colab": {
          "base_uri": "https://localhost:8080/"
        },
        "id": "GVIFBBjEJD1Z",
        "outputId": "8f53edff-432c-4b62-ab27-aed3f0ff77f1"
      },
      "execution_count": 10,
      "outputs": [
        {
          "output_type": "execute_result",
          "data": {
            "text/plain": [
              "9"
            ]
          },
          "metadata": {},
          "execution_count": 10
        }
      ]
    },
    {
      "cell_type": "code",
      "source": [
        "3>2 and 4>2"
      ],
      "metadata": {
        "colab": {
          "base_uri": "https://localhost:8080/"
        },
        "id": "mA4oyVn1JLFE",
        "outputId": "d5ec6e1d-9fd3-4f5f-8a8c-0b9387bc6647"
      },
      "execution_count": 11,
      "outputs": [
        {
          "output_type": "execute_result",
          "data": {
            "text/plain": [
              "True"
            ]
          },
          "metadata": {},
          "execution_count": 11
        }
      ]
    },
    {
      "cell_type": "code",
      "source": [
        "3>2 or 4>2  #if one condition or both condition true then it returns True otherwise returns false."
      ],
      "metadata": {
        "colab": {
          "base_uri": "https://localhost:8080/"
        },
        "id": "4bHoKxyrJRIM",
        "outputId": "0620c12f-934c-43f5-dce3-bd79da1c57e1"
      },
      "execution_count": 13,
      "outputs": [
        {
          "output_type": "execute_result",
          "data": {
            "text/plain": [
              "True"
            ]
          },
          "metadata": {},
          "execution_count": 13
        }
      ]
    },
    {
      "cell_type": "code",
      "source": [
        "not(3>2 and 4>2)"
      ],
      "metadata": {
        "colab": {
          "base_uri": "https://localhost:8080/"
        },
        "id": "MixY8H2gJowr",
        "outputId": "f27ea44e-4dbf-4e06-d3a7-8484918a91b8"
      },
      "execution_count": 14,
      "outputs": [
        {
          "output_type": "execute_result",
          "data": {
            "text/plain": [
              "False"
            ]
          },
          "metadata": {},
          "execution_count": 14
        }
      ]
    },
    {
      "cell_type": "code",
      "source": [
        "3>=2 and 3==1"
      ],
      "metadata": {
        "colab": {
          "base_uri": "https://localhost:8080/"
        },
        "id": "RvWtb1dAJx9R",
        "outputId": "ae05bc8e-93e7-423d-8000-8f4de3fc81ef"
      },
      "execution_count": 15,
      "outputs": [
        {
          "output_type": "execute_result",
          "data": {
            "text/plain": [
              "False"
            ]
          },
          "metadata": {},
          "execution_count": 15
        }
      ]
    },
    {
      "cell_type": "code",
      "source": [
        "number=20\n",
        "number+=10\n",
        "number"
      ],
      "metadata": {
        "colab": {
          "base_uri": "https://localhost:8080/"
        },
        "id": "1qRE-rBfKDA3",
        "outputId": "2db5b800-172e-42cd-b42a-ce4f8c2f766d"
      },
      "execution_count": 16,
      "outputs": [
        {
          "output_type": "execute_result",
          "data": {
            "text/plain": [
              "30"
            ]
          },
          "metadata": {},
          "execution_count": 16
        }
      ]
    },
    {
      "cell_type": "code",
      "source": [
        "number_one=20\n",
        "number_two=40\n",
        "number_three=number_one+number_two\n"
      ],
      "metadata": {
        "id": "cJa9kyxyKU5b"
      },
      "execution_count": 18,
      "outputs": []
    },
    {
      "cell_type": "code",
      "source": [
        "print(number_three,\" is your exam marks \")"
      ],
      "metadata": {
        "colab": {
          "base_uri": "https://localhost:8080/"
        },
        "id": "cH2kUpVOKnKh",
        "outputId": "7c597d08-1c17-404c-b763-c0918e94bb38"
      },
      "execution_count": 19,
      "outputs": [
        {
          "output_type": "stream",
          "name": "stdout",
          "text": [
            "60  is your exam marks \n"
          ]
        }
      ]
    },
    {
      "cell_type": "markdown",
      "source": [
        "# 🎉 Congratulations! 🎉\n",
        "\n",
        "You have successfully completed this section.  \n"
      ],
      "metadata": {
        "id": "9Uek8Bd5K3bP"
      }
    }
  ]
}