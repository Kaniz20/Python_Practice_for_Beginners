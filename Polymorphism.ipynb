{
  "nbformat": 4,
  "nbformat_minor": 0,
  "metadata": {
    "colab": {
      "provenance": [],
      "authorship_tag": "ABX9TyNsmOXQIaUm16QcTHKPXFZK",
      "include_colab_link": true
    },
    "kernelspec": {
      "name": "python3",
      "display_name": "Python 3"
    },
    "language_info": {
      "name": "python"
    }
  },
  "cells": [
    {
      "cell_type": "markdown",
      "metadata": {
        "id": "view-in-github",
        "colab_type": "text"
      },
      "source": [
        "<a href=\"https://colab.research.google.com/github/Kaniz20/Python_Practice_for_Beginners/blob/main/Polymorphism.ipynb\" target=\"_parent\"><img src=\"https://colab.research.google.com/assets/colab-badge.svg\" alt=\"Open In Colab\"/></a>"
      ]
    },
    {
      "cell_type": "code",
      "source": [
        "#base class\n",
        "class BaseClass:\n",
        "  def __init__(self,name):\n",
        "    self.name=name\n",
        "\n",
        "  def show(self):\n",
        "    raise NotImplementedError(\"Subclass must implement abstract method\")"
      ],
      "metadata": {
        "id": "gpsQ7K_D_Iph"
      },
      "execution_count": 2,
      "outputs": []
    },
    {
      "cell_type": "code",
      "source": [
        "class pdf(BaseClass):\n",
        "  def show(self):\n",
        "    print(\"This ia pdf file !\")"
      ],
      "metadata": {
        "id": "sLgSaZSU_uv_"
      },
      "execution_count": 3,
      "outputs": []
    },
    {
      "cell_type": "code",
      "source": [
        "class Excel(BaseClass):\n",
        "  def show(self):\n",
        "    print(\"This ia Excel file !\")"
      ],
      "metadata": {
        "id": "OqmCaGk-AIe1"
      },
      "execution_count": 4,
      "outputs": []
    },
    {
      "cell_type": "code",
      "source": [
        "class Word(BaseClass):\n",
        "  def show(self):\n",
        "    print(\"This ia Word file !\")"
      ],
      "metadata": {
        "id": "9sup7u5nAQbh"
      },
      "execution_count": 5,
      "outputs": []
    },
    {
      "cell_type": "code",
      "source": [
        "pdf_obj=pdf(\"pdf\")\n",
        "Excel_obj=Excel(\"Excel\")\n",
        "Word_obj=Word(\"Word\")"
      ],
      "metadata": {
        "id": "x1YPTqscAV7f"
      },
      "execution_count": 6,
      "outputs": []
    },
    {
      "cell_type": "code",
      "source": [
        "for file in [pdf_obj,Excel_obj,Word_obj]:\n",
        "  file.show()"
      ],
      "metadata": {
        "colab": {
          "base_uri": "https://localhost:8080/"
        },
        "id": "nRFpGRbSAxo4",
        "outputId": "c2621f22-42c2-4bc0-f8e7-914845459de8"
      },
      "execution_count": 8,
      "outputs": [
        {
          "output_type": "stream",
          "name": "stdout",
          "text": [
            "This ia pdf file !\n",
            "This ia Excel file !\n",
            "This ia Word file !\n"
          ]
        }
      ]
    },
    {
      "cell_type": "code",
      "source": [
        "for file in [pdf_obj,Excel_obj,Word_obj]:\n",
        "  print(type(file))"
      ],
      "metadata": {
        "colab": {
          "base_uri": "https://localhost:8080/"
        },
        "id": "8558tJo-BP5H",
        "outputId": "824d9aa1-6d5a-43a0-c374-53a985a45bc6"
      },
      "execution_count": 10,
      "outputs": [
        {
          "output_type": "stream",
          "name": "stdout",
          "text": [
            "<class '__main__.pdf'>\n",
            "<class '__main__.Excel'>\n",
            "<class '__main__.Word'>\n"
          ]
        }
      ]
    }
  ]
}