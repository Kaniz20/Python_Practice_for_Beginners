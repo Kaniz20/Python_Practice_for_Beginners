{
  "nbformat": 4,
  "nbformat_minor": 0,
  "metadata": {
    "colab": {
      "provenance": [],
      "authorship_tag": "ABX9TyOQpd3OTH5fEgugdP3FE7aY",
      "include_colab_link": true
    },
    "kernelspec": {
      "name": "python3",
      "display_name": "Python 3"
    },
    "language_info": {
      "name": "python"
    }
  },
  "cells": [
    {
      "cell_type": "markdown",
      "metadata": {
        "id": "view-in-github",
        "colab_type": "text"
      },
      "source": [
        "<a href=\"https://colab.research.google.com/github/Kaniz20/Python_Practice_for_Beginners/blob/main/Strings.ipynb\" target=\"_parent\"><img src=\"https://colab.research.google.com/assets/colab-badge.svg\" alt=\"Open In Colab\"/></a>"
      ]
    },
    {
      "cell_type": "markdown",
      "source": [
        "# 📝 Python String Basics\n",
        "\n",
        "---\n",
        "\n",
        "## 🔹 Indexing Strings\n",
        "- Indexing allows access to individual characters of a string using numeric values.  \n",
        "- Example (`\"Python\"`):\n",
        "\n",
        "| Index (positive) | 0 | 1 | 2 | 3 | 4 | 5 |\n",
        "|------------------|---|---|---|---|---|---|\n",
        "| Character        | P | y | t | h | o | n |\n",
        "| Index (negative) | -6| -5| -4| -3| -2| -1 |\n",
        "\n",
        "---\n",
        "\n",
        "## 🔹 Slicing Strings\n",
        "- Extracts a substring using:  \n",
        "  **Syntax → `string[start: stop: step]`**  \n",
        "- Example:  \n",
        "  ```python\n",
        "  s = \"Python\"\n",
        "  print(s[0:4])   # Pyth\n",
        "  print(s[::2])   # Pto\n"
      ],
      "metadata": {
        "id": "44zh1EGqMc69"
      }
    },
    {
      "cell_type": "markdown",
      "source": [
        "#🔹 Escape Characters\n",
        "\n",
        "| Escape | Prints as    |\n",
        "| ------ | ------------ |\n",
        "| `\\'`   | Single quote |\n",
        "| `\\\"`   | Double quote |\n",
        "| `\\t`   | Tab          |\n",
        "| `\\n`   | Newline      |\n",
        "| `\\\\`   | Backslash    |\n",
        "                                       \n",
        "\n",
        "#🔹 Common String Methods\n",
        "\n",
        "\n",
        "| Method       | Description                          | Example                         |\n",
        "|--------------|--------------------------------------|---------------------------------|\n",
        "| `format()`   | Formats string                       | `\"Hi {}\".format(\"Python\")` → Hi Python |\n",
        "| `split()`    | Splits string into list              | `\"a,b,c\".split(\",\")` → ['a','b','c'] |\n",
        "| `join()`     | Joins list into string               | `\" \".join(['Hi','Python'])` → Hi Python |\n",
        "| `upper()`    | Converts to uppercase                | `\"python\".upper()` → PYTHON |\n",
        "| `lower()`    | Converts to lowercase                | `\"PYTHON\".lower()` → python |\n",
        "| `isupper()`  | Checks if all chars are uppercase    | `\"HELLO\".isupper()` → True |\n",
        "| `islower()`  | Checks if all chars are lowercase    | `\"hello\".islower()` → True |\n",
        "| `isalpha()`  | Checks if only alphabets             | `\"abc\".isalpha()` → True |\n",
        "| `isalnum()`  | Checks if alphabets + digits         | `\"abc123\".isalnum()` → True |\n",
        "| `isdecimal()`| Checks if only decimal digits        | `\"123\".isdecimal()` → True |\n",
        "| `isspace()`  | Checks if only whitespace            | `\"   \".isspace()` → True |\n",
        "\n"
      ],
      "metadata": {
        "id": "G6LNJuk5Mie5"
      }
    },
    {
      "cell_type": "code",
      "source": [
        "\"\"\"Hello Kaniz\n",
        "How are You\"\"\"     #multiline string---\"\"\".....\"\"\""
      ],
      "metadata": {
        "colab": {
          "base_uri": "https://localhost:8080/",
          "height": 36
        },
        "id": "r4OThojhNV_S",
        "outputId": "31c9373f-ebe6-472c-d1a3-465ff0f96101"
      },
      "execution_count": 4,
      "outputs": [
        {
          "output_type": "execute_result",
          "data": {
            "text/plain": [
              "'Hello Kaniz \\nHow are You'"
            ],
            "application/vnd.google.colaboratory.intrinsic+json": {
              "type": "string"
            }
          },
          "metadata": {},
          "execution_count": 4
        }
      ]
    },
    {
      "cell_type": "code",
      "source": [
        "'he\\'s a good boy'   #Escape Characters"
      ],
      "metadata": {
        "colab": {
          "base_uri": "https://localhost:8080/",
          "height": 36
        },
        "id": "PS2yqtEON9Xe",
        "outputId": "4e8eef1c-e102-421a-fcb7-1058a8a5ea33"
      },
      "execution_count": 5,
      "outputs": [
        {
          "output_type": "execute_result",
          "data": {
            "text/plain": [
              "\"he's a good boy\""
            ],
            "application/vnd.google.colaboratory.intrinsic+json": {
              "type": "string"
            }
          },
          "metadata": {},
          "execution_count": 5
        }
      ]
    },
    {
      "cell_type": "code",
      "source": [
        "name='kaniz fatema anika'\n",
        "name.split()           #split method---convert list"
      ],
      "metadata": {
        "colab": {
          "base_uri": "https://localhost:8080/"
        },
        "id": "NDWEUXsDOwGb",
        "outputId": "8e4bdb02-f185-4d68-c25e-c532738a814e"
      },
      "execution_count": 7,
      "outputs": [
        {
          "output_type": "execute_result",
          "data": {
            "text/plain": [
              "['kaniz', 'fatema', 'anika']"
            ]
          },
          "metadata": {},
          "execution_count": 7
        }
      ]
    },
    {
      "cell_type": "code",
      "source": [
        "' '.join(['kaniz', 'fatema', 'anika'])"
      ],
      "metadata": {
        "colab": {
          "base_uri": "https://localhost:8080/",
          "height": 36
        },
        "id": "Zjx46SoUQYQQ",
        "outputId": "b0074276-e879-46fd-af4a-f4b3ebe726d7"
      },
      "execution_count": 13,
      "outputs": [
        {
          "output_type": "execute_result",
          "data": {
            "text/plain": [
              "'kaniz fatema anika'"
            ],
            "application/vnd.google.colaboratory.intrinsic+json": {
              "type": "string"
            }
          },
          "metadata": {},
          "execution_count": 13
        }
      ]
    },
    {
      "cell_type": "code",
      "source": [
        "name.upper()"
      ],
      "metadata": {
        "colab": {
          "base_uri": "https://localhost:8080/",
          "height": 36
        },
        "id": "pLftS_K4RAvP",
        "outputId": "90156fb3-eea7-4fd5-af07-90a9dc24ca2f"
      },
      "execution_count": 14,
      "outputs": [
        {
          "output_type": "execute_result",
          "data": {
            "text/plain": [
              "'KANIZ FATEMA ANIKA'"
            ],
            "application/vnd.google.colaboratory.intrinsic+json": {
              "type": "string"
            }
          },
          "metadata": {},
          "execution_count": 14
        }
      ]
    },
    {
      "cell_type": "code",
      "source": [
        "name.isupper()"
      ],
      "metadata": {
        "colab": {
          "base_uri": "https://localhost:8080/"
        },
        "id": "Y3K3rrgcSdBZ",
        "outputId": "b53e06d5-5235-4401-cf0a-df28bb576c2c"
      },
      "execution_count": 24,
      "outputs": [
        {
          "output_type": "execute_result",
          "data": {
            "text/plain": [
              "False"
            ]
          },
          "metadata": {},
          "execution_count": 24
        }
      ]
    },
    {
      "cell_type": "code",
      "source": [
        "print(name.isdecimal())"
      ],
      "metadata": {
        "colab": {
          "base_uri": "https://localhost:8080/"
        },
        "id": "qHc_DnwRSpC_",
        "outputId": "4e0f80f2-eb81-4f66-c048-41d60998423e"
      },
      "execution_count": 25,
      "outputs": [
        {
          "output_type": "stream",
          "name": "stdout",
          "text": [
            "False\n"
          ]
        }
      ]
    },
    {
      "cell_type": "code",
      "source": [
        "name='kaniz'\n",
        "name[0]"
      ],
      "metadata": {
        "colab": {
          "base_uri": "https://localhost:8080/",
          "height": 36
        },
        "id": "dR4T4DF6RJE4",
        "outputId": "0dfa909b-05e9-4fd4-ae0e-e0ffc49e8110"
      },
      "execution_count": 15,
      "outputs": [
        {
          "output_type": "execute_result",
          "data": {
            "text/plain": [
              "'k'"
            ],
            "application/vnd.google.colaboratory.intrinsic+json": {
              "type": "string"
            }
          },
          "metadata": {},
          "execution_count": 15
        }
      ]
    },
    {
      "cell_type": "code",
      "source": [
        "print(name[0:4:2])"
      ],
      "metadata": {
        "colab": {
          "base_uri": "https://localhost:8080/"
        },
        "id": "hL-sTgRKRYNY",
        "outputId": "79db72c0-e9fd-415d-96d9-78b653c3d96e"
      },
      "execution_count": 18,
      "outputs": [
        {
          "output_type": "stream",
          "name": "stdout",
          "text": [
            "kn\n"
          ]
        }
      ]
    },
    {
      "cell_type": "code",
      "source": [
        "name[3]"
      ],
      "metadata": {
        "colab": {
          "base_uri": "https://localhost:8080/",
          "height": 36
        },
        "id": "8c-ho8bMRVqK",
        "outputId": "d489ce90-cb61-48bc-9576-522abba2aaf7"
      },
      "execution_count": 16,
      "outputs": [
        {
          "output_type": "execute_result",
          "data": {
            "text/plain": [
              "'i'"
            ],
            "application/vnd.google.colaboratory.intrinsic+json": {
              "type": "string"
            }
          },
          "metadata": {},
          "execution_count": 16
        }
      ]
    },
    {
      "cell_type": "code",
      "source": [
        "print(name[:3:])"
      ],
      "metadata": {
        "colab": {
          "base_uri": "https://localhost:8080/"
        },
        "id": "4rGb_13xRkhw",
        "outputId": "c3b149e3-557e-4f83-cf5e-eb7fc2168d07"
      },
      "execution_count": 20,
      "outputs": [
        {
          "output_type": "stream",
          "name": "stdout",
          "text": [
            "kan\n"
          ]
        }
      ]
    },
    {
      "cell_type": "code",
      "source": [
        "name[0::]"
      ],
      "metadata": {
        "colab": {
          "base_uri": "https://localhost:8080/",
          "height": 36
        },
        "id": "hd33T4d6Rtfq",
        "outputId": "adfbc6dd-862a-4e4b-c1df-841596a3ea7f"
      },
      "execution_count": 21,
      "outputs": [
        {
          "output_type": "execute_result",
          "data": {
            "text/plain": [
              "'kaniz'"
            ],
            "application/vnd.google.colaboratory.intrinsic+json": {
              "type": "string"
            }
          },
          "metadata": {},
          "execution_count": 21
        }
      ]
    },
    {
      "cell_type": "code",
      "source": [
        "name[::4]"
      ],
      "metadata": {
        "colab": {
          "base_uri": "https://localhost:8080/",
          "height": 36
        },
        "id": "gE6caQ80R1CS",
        "outputId": "eb0e0e6f-7e9f-4caf-98e4-39bbd01df2b7"
      },
      "execution_count": 22,
      "outputs": [
        {
          "output_type": "execute_result",
          "data": {
            "text/plain": [
              "'kz'"
            ],
            "application/vnd.google.colaboratory.intrinsic+json": {
              "type": "string"
            }
          },
          "metadata": {},
          "execution_count": 22
        }
      ]
    },
    {
      "cell_type": "code",
      "source": [
        "print(name[-2])"
      ],
      "metadata": {
        "colab": {
          "base_uri": "https://localhost:8080/"
        },
        "id": "jUs7BjQaR9ni",
        "outputId": "e75f1f7e-5ff0-4ace-8bfc-faa1e61c0a1e"
      },
      "execution_count": 23,
      "outputs": [
        {
          "output_type": "stream",
          "name": "stdout",
          "text": [
            "i\n"
          ]
        }
      ]
    },
    {
      "cell_type": "markdown",
      "source": [
        "# 🎉 Congratulations 🎉\n",
        "\n",
        "🚀 Keep learning, keep growing!"
      ],
      "metadata": {
        "id": "uD6WXw44SBw8"
      }
    }
  ]
}