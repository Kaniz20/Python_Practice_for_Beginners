{
  "nbformat": 4,
  "nbformat_minor": 0,
  "metadata": {
    "colab": {
      "provenance": [],
      "authorship_tag": "ABX9TyOrjEP/cfhaanvYJG7nZCe7",
      "include_colab_link": true
    },
    "kernelspec": {
      "name": "python3",
      "display_name": "Python 3"
    },
    "language_info": {
      "name": "python"
    }
  },
  "cells": [
    {
      "cell_type": "markdown",
      "metadata": {
        "id": "view-in-github",
        "colab_type": "text"
      },
      "source": [
        "<a href=\"https://colab.research.google.com/github/Kaniz20/Python_Practice_for_Beginners/blob/main/User_Input.ipynb\" target=\"_parent\"><img src=\"https://colab.research.google.com/assets/colab-badge.svg\" alt=\"Open In Colab\"/></a>"
      ]
    },
    {
      "cell_type": "markdown",
      "source": [
        "#  User Input in Python\n",
        "\n",
        "- `input()` is used to take user input as **string**  \n",
        "- By default, input is always a string  \n",
        "- Use `int()` / `float()` to convert if needed  \n",
        "\n",
        "#Example:\n",
        "```python\n",
        "name = input(\"Enter your name: \")\n",
        "age = int(input(\"Enter your age: \"))\n",
        "print(\"Hello\", name, \"you are\", age, \"years old.\")\n"
      ],
      "metadata": {
        "id": "I9cMTZcqc7Vt"
      }
    },
    {
      "cell_type": "code",
      "execution_count": 1,
      "metadata": {
        "colab": {
          "base_uri": "https://localhost:8080/",
          "height": 54
        },
        "id": "1Cro4XQwZgBz",
        "outputId": "d1c747a9-a85c-4ffd-88d2-5bafdf1fc8d4"
      },
      "outputs": [
        {
          "name": "stdout",
          "output_type": "stream",
          "text": [
            "Enter your namekaniz\n"
          ]
        },
        {
          "output_type": "execute_result",
          "data": {
            "text/plain": [
              "'kaniz'"
            ],
            "application/vnd.google.colaboratory.intrinsic+json": {
              "type": "string"
            }
          },
          "metadata": {},
          "execution_count": 1
        }
      ],
      "source": [
        "input('Enter your name')"
      ]
    },
    {
      "cell_type": "code",
      "source": [
        "input('Enter your age')"
      ],
      "metadata": {
        "colab": {
          "base_uri": "https://localhost:8080/",
          "height": 54
        },
        "id": "6jWTU0xCaOVb",
        "outputId": "b6a4d8aa-6726-49ed-ce6a-f10ddaf25ee6"
      },
      "execution_count": 2,
      "outputs": [
        {
          "name": "stdout",
          "output_type": "stream",
          "text": [
            "Enter your age22\n"
          ]
        },
        {
          "output_type": "execute_result",
          "data": {
            "text/plain": [
              "'22'"
            ],
            "application/vnd.google.colaboratory.intrinsic+json": {
              "type": "string"
            }
          },
          "metadata": {},
          "execution_count": 2
        }
      ]
    },
    {
      "cell_type": "code",
      "source": [
        "age=input('Enter your age')"
      ],
      "metadata": {
        "colab": {
          "base_uri": "https://localhost:8080/"
        },
        "id": "4K-QlyYPaV9H",
        "outputId": "3976a404-de97-4d1e-ddf4-034e4750cf94"
      },
      "execution_count": 3,
      "outputs": [
        {
          "name": "stdout",
          "output_type": "stream",
          "text": [
            "Enter your age22\n"
          ]
        }
      ]
    },
    {
      "cell_type": "code",
      "source": [
        "type(age)   #input function----take input as a strings"
      ],
      "metadata": {
        "colab": {
          "base_uri": "https://localhost:8080/"
        },
        "id": "W0J8EA8JafOm",
        "outputId": "081b8758-00f1-454a-eef6-e86ffbb59876"
      },
      "execution_count": 4,
      "outputs": [
        {
          "output_type": "execute_result",
          "data": {
            "text/plain": [
              "str"
            ]
          },
          "metadata": {},
          "execution_count": 4
        }
      ]
    },
    {
      "cell_type": "code",
      "source": [
        "print('My age is :',age)"
      ],
      "metadata": {
        "colab": {
          "base_uri": "https://localhost:8080/"
        },
        "id": "uB6ncuftaj0_",
        "outputId": "41b3f79c-c456-4811-c07f-a674d5778f95"
      },
      "execution_count": 5,
      "outputs": [
        {
          "output_type": "stream",
          "name": "stdout",
          "text": [
            "My age is : 22\n"
          ]
        }
      ]
    },
    {
      "cell_type": "code",
      "source": [
        "convert_input=int(input('Enter your age'))"
      ],
      "metadata": {
        "colab": {
          "base_uri": "https://localhost:8080/"
        },
        "id": "xIy3zFKXa3DO",
        "outputId": "f68cf91b-2ce5-4905-fec0-72fc0b5789bc"
      },
      "execution_count": 6,
      "outputs": [
        {
          "name": "stdout",
          "output_type": "stream",
          "text": [
            "Enter your age22\n"
          ]
        }
      ]
    },
    {
      "cell_type": "code",
      "source": [
        "type(convert_input)"
      ],
      "metadata": {
        "colab": {
          "base_uri": "https://localhost:8080/"
        },
        "id": "MwNZWRXmbEUp",
        "outputId": "ffdb3e27-6a8f-4207-8ffa-8a13707a4dbd"
      },
      "execution_count": 8,
      "outputs": [
        {
          "output_type": "execute_result",
          "data": {
            "text/plain": [
              "int"
            ]
          },
          "metadata": {},
          "execution_count": 8
        }
      ]
    },
    {
      "cell_type": "markdown",
      "source": [
        "#BMI Calculate"
      ],
      "metadata": {
        "id": "1vwM73libXLG"
      }
    },
    {
      "cell_type": "code",
      "source": [
        "print(\"Enter your weight and height separated by comma\")\n",
        "weight,height=eval(input(\"weight[kg],height[m]\"))\n",
        "BMI=weight/height**2\n",
        "print(\"Your BMI is:\",BMI)"
      ],
      "metadata": {
        "colab": {
          "base_uri": "https://localhost:8080/"
        },
        "id": "UrWBwSWAbKDw",
        "outputId": "b8d58add-a04b-4f55-fa0d-865a553bca22"
      },
      "execution_count": 11,
      "outputs": [
        {
          "output_type": "stream",
          "name": "stdout",
          "text": [
            "Enter your weight and height separated by comma\n",
            "weight[kg],height[m]50,1.75\n",
            "Your BMI is: 16.3265306122449\n"
          ]
        }
      ]
    },
    {
      "cell_type": "code",
      "source": [
        "string=\"2+3\""
      ],
      "metadata": {
        "id": "vEYVU5vJcAnX"
      },
      "execution_count": 13,
      "outputs": []
    },
    {
      "cell_type": "code",
      "source": [
        "eval(string)"
      ],
      "metadata": {
        "colab": {
          "base_uri": "https://localhost:8080/"
        },
        "id": "WkO9xZRFbGcr",
        "outputId": "6807b843-6c0d-48be-d6a4-a61acda8d474"
      },
      "execution_count": 14,
      "outputs": [
        {
          "output_type": "execute_result",
          "data": {
            "text/plain": [
              "5"
            ]
          },
          "metadata": {},
          "execution_count": 14
        }
      ]
    }
  ]
}