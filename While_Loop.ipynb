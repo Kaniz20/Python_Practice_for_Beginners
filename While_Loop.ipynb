{
  "nbformat": 4,
  "nbformat_minor": 0,
  "metadata": {
    "colab": {
      "provenance": [],
      "authorship_tag": "ABX9TyMQjrZhHAC0uZss53jBh7vL",
      "include_colab_link": true
    },
    "kernelspec": {
      "name": "python3",
      "display_name": "Python 3"
    },
    "language_info": {
      "name": "python"
    }
  },
  "cells": [
    {
      "cell_type": "markdown",
      "metadata": {
        "id": "view-in-github",
        "colab_type": "text"
      },
      "source": [
        "<a href=\"https://colab.research.google.com/github/Kaniz20/Python_Practice_for_Beginners/blob/main/While_Loop.ipynb\" target=\"_parent\"><img src=\"https://colab.research.google.com/assets/colab-badge.svg\" alt=\"Open In Colab\"/></a>"
      ]
    },
    {
      "cell_type": "markdown",
      "source": [
        "# While Loop in Python\n",
        "\n",
        "- The **while loop** is used to run a block of code **as long as the condition is True**  \n",
        "\n",
        " Syntax:\n",
        "```python\n",
        "while condition:\n",
        "    statements\n"
      ],
      "metadata": {
        "id": "bX5QWtyrvpQ8"
      }
    },
    {
      "cell_type": "code",
      "source": [
        "a=0 #counter variable(start count)\n",
        "while a<5:\n",
        "  a+=1\n",
        "  print(a)"
      ],
      "metadata": {
        "id": "9qaFu7j8x81r",
        "colab": {
          "base_uri": "https://localhost:8080/"
        },
        "outputId": "1a7c6058-7a47-4312-f8d1-b372114f112a"
      },
      "execution_count": null,
      "outputs": [
        {
          "output_type": "stream",
          "name": "stdout",
          "text": [
            "1\n",
            "2\n",
            "3\n",
            "4\n",
            "5\n"
          ]
        }
      ]
    },
    {
      "cell_type": "code",
      "source": [
        "input_number=int(input(\"Enter a number: \"))\n",
        "counter_variable=1\n",
        "sum=0\n",
        "while counter_variable<=input_number:\n",
        "  sum+=counter_variable\n",
        "  counter_variable+=1\n",
        "print(sum)"
      ],
      "metadata": {
        "id": "_wvu_oR7yh5Q",
        "colab": {
          "base_uri": "https://localhost:8080/"
        },
        "outputId": "7bbc095b-4bf7-44ed-8b29-c4cf436aed35"
      },
      "execution_count": null,
      "outputs": [
        {
          "output_type": "stream",
          "name": "stdout",
          "text": [
            "Enter a number: 30\n",
            "465\n"
          ]
        }
      ]
    },
    {
      "cell_type": "code",
      "source": [
        "count=1\n",
        "input_string=input(\"Enter your name\")\n",
        "while count<=5:\n",
        "  print(input_string)\n",
        "  count+=1\n"
      ],
      "metadata": {
        "colab": {
          "base_uri": "https://localhost:8080/"
        },
        "id": "kNdgmgKAzThG",
        "outputId": "a50e1646-8c37-418a-da5b-d8e8172ac9e4"
      },
      "execution_count": null,
      "outputs": [
        {
          "output_type": "stream",
          "name": "stdout",
          "text": [
            "Enter your namekaniz Fatema Anika\n",
            "kaniz Fatema Anika\n",
            "kaniz Fatema Anika\n",
            "kaniz Fatema Anika\n",
            "kaniz Fatema Anika\n",
            "kaniz Fatema Anika\n"
          ]
        }
      ]
    },
    {
      "cell_type": "code",
      "source": [
        "while True:\n",
        "  print(\"This is Infinite loop!\")"
      ],
      "metadata": {
        "id": "Rd92ehim1YIq"
      },
      "execution_count": null,
      "outputs": []
    },
    {
      "cell_type": "markdown",
      "source": [
        "#You have successfully completed the **Basics of While Loop**."
      ],
      "metadata": {
        "id": "gIpBBVWh1dXa"
      }
    }
  ]
}