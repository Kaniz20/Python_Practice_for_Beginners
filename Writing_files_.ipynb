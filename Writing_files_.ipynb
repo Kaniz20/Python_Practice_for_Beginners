{
  "nbformat": 4,
  "nbformat_minor": 0,
  "metadata": {
    "colab": {
      "provenance": [],
      "authorship_tag": "ABX9TyP8zX5izf2KWKUIJlz8S8zT",
      "include_colab_link": true
    },
    "kernelspec": {
      "name": "python3",
      "display_name": "Python 3"
    },
    "language_info": {
      "name": "python"
    }
  },
  "cells": [
    {
      "cell_type": "markdown",
      "metadata": {
        "id": "view-in-github",
        "colab_type": "text"
      },
      "source": [
        "<a href=\"https://colab.research.google.com/github/Kaniz20/Python_Practice_for_Beginners/blob/main/Writing_files_.ipynb\" target=\"_parent\"><img src=\"https://colab.research.google.com/assets/colab-badge.svg\" alt=\"Open In Colab\"/></a>"
      ]
    },
    {
      "cell_type": "markdown",
      "source": [
        "# Create and write into a file\n",
        "    with open(\"example.txt\", \"w\") as f:\n",
        "    f.write(\"Hello, this is a file created in Python!\\n\")\n",
        "    f.write(\"You can write multiple lines easily.\")\n",
        "\n",
        " # To read and check the file content:\n",
        "\n",
        "    with open(\"example.txt\", \"r\") as f:\n",
        "    print(f.read())\n",
        "\n",
        "#To download the file in Colab:\n",
        "\n",
        "    from google.colab import files\n",
        "    files.download(\"example.txt\")\n"
      ],
      "metadata": {
        "id": "Mpo9WIZQ-qWZ"
      }
    },
    {
      "cell_type": "code",
      "execution_count": 20,
      "metadata": {
        "colab": {
          "base_uri": "https://localhost:8080/"
        },
        "id": "cQVVcIGg6oqo",
        "outputId": "d331e06a-6f58-4b09-ddb1-ab4e53e3ffb5"
      },
      "outputs": [
        {
          "output_type": "stream",
          "name": "stdout",
          "text": [
            "\n",
            "This is my First Line\n",
            "This is my Second Line\n",
            "This is my Third Line\n",
            "\n",
            "0\n"
          ]
        }
      ],
      "source": [
        "with open(\"new_file.txt\",\"w+\") as file:\n",
        "  vari=file.write(\"This is my First Line\\n\")\n",
        "  vari=file.write(\"This is my Second Line\\n\")\n",
        "  vari=file.write(\"This is my Third Line\\n\")\n",
        "  print(file.read())\n",
        "  file.seek(0)\n",
        "  print(file.read())\n",
        "  print(file.seek(0))"
      ]
    },
    {
      "cell_type": "code",
      "source": [
        "from google.colab import files\n",
        "variables=files.download(\"new_file.txt\")"
      ],
      "metadata": {
        "colab": {
          "base_uri": "https://localhost:8080/",
          "height": 17
        },
        "id": "ka4iO1wX7MZ0",
        "outputId": "84876d41-3a4a-43aa-8298-892b2f39fb6e"
      },
      "execution_count": 11,
      "outputs": [
        {
          "output_type": "display_data",
          "data": {
            "text/plain": [
              "<IPython.core.display.Javascript object>"
            ],
            "application/javascript": [
              "\n",
              "    async function download(id, filename, size) {\n",
              "      if (!google.colab.kernel.accessAllowed) {\n",
              "        return;\n",
              "      }\n",
              "      const div = document.createElement('div');\n",
              "      const label = document.createElement('label');\n",
              "      label.textContent = `Downloading \"${filename}\": `;\n",
              "      div.appendChild(label);\n",
              "      const progress = document.createElement('progress');\n",
              "      progress.max = size;\n",
              "      div.appendChild(progress);\n",
              "      document.body.appendChild(div);\n",
              "\n",
              "      const buffers = [];\n",
              "      let downloaded = 0;\n",
              "\n",
              "      const channel = await google.colab.kernel.comms.open(id);\n",
              "      // Send a message to notify the kernel that we're ready.\n",
              "      channel.send({})\n",
              "\n",
              "      for await (const message of channel.messages) {\n",
              "        // Send a message to notify the kernel that we're ready.\n",
              "        channel.send({})\n",
              "        if (message.buffers) {\n",
              "          for (const buffer of message.buffers) {\n",
              "            buffers.push(buffer);\n",
              "            downloaded += buffer.byteLength;\n",
              "            progress.value = downloaded;\n",
              "          }\n",
              "        }\n",
              "      }\n",
              "      const blob = new Blob(buffers, {type: 'application/binary'});\n",
              "      const a = document.createElement('a');\n",
              "      a.href = window.URL.createObjectURL(blob);\n",
              "      a.download = filename;\n",
              "      div.appendChild(a);\n",
              "      a.click();\n",
              "      div.remove();\n",
              "    }\n",
              "  "
            ]
          },
          "metadata": {}
        },
        {
          "output_type": "display_data",
          "data": {
            "text/plain": [
              "<IPython.core.display.Javascript object>"
            ],
            "application/javascript": [
              "download(\"download_0d5b96f5-81ac-4ac2-8678-3e1179eeb2bc\", \"new_file.txt\", 67)"
            ]
          },
          "metadata": {}
        }
      ]
    },
    {
      "cell_type": "markdown",
      "source": [
        "#This repository is designed for beginner-friendly Python learning.\n",
        "We have learned the basics of Python — how to write code, create files, and print outputs.\n",
        "\n",
        "Now, we will slowly move forward to learn:\n",
        "\n",
        "\n",
        "\n",
        "**NumPy** — for numerical operations\n",
        "\n",
        "**Pandas**— for data analysis\n",
        "\n",
        "Step by step, we will continue our journey and steadily build strong Python skills!"
      ],
      "metadata": {
        "id": "Ob5cnm4b_FUr"
      }
    }
  ]
}