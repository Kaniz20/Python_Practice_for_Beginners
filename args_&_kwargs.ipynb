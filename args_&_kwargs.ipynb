{
  "nbformat": 4,
  "nbformat_minor": 0,
  "metadata": {
    "colab": {
      "provenance": [],
      "authorship_tag": "ABX9TyNXnLntWCRCcYTzMLkkzo4T",
      "include_colab_link": true
    },
    "kernelspec": {
      "name": "python3",
      "display_name": "Python 3"
    },
    "language_info": {
      "name": "python"
    }
  },
  "cells": [
    {
      "cell_type": "markdown",
      "metadata": {
        "id": "view-in-github",
        "colab_type": "text"
      },
      "source": [
        "<a href=\"https://colab.research.google.com/github/Kaniz20/Python_Practice_for_Beginners/blob/main/args_%26_kwargs.ipynb\" target=\"_parent\"><img src=\"https://colab.research.google.com/assets/colab-badge.svg\" alt=\"Open In Colab\"/></a>"
      ]
    },
    {
      "cell_type": "code",
      "source": [
        "def addnumber(name1,name2,name3):\n",
        "  return sum([name1,name2,name3])\n",
        "addnumber(10,20,30)\n"
      ],
      "metadata": {
        "colab": {
          "base_uri": "https://localhost:8080/"
        },
        "id": "waIydmktdbUm",
        "outputId": "fe723b9e-170b-4eae-ad9a-1a3f4ee4ff6e"
      },
      "execution_count": 3,
      "outputs": [
        {
          "output_type": "execute_result",
          "data": {
            "text/plain": [
              "60"
            ]
          },
          "metadata": {},
          "execution_count": 3
        }
      ]
    },
    {
      "cell_type": "code",
      "source": [
        "def addnumber(*args): #multiple parameter case\n",
        "  return sum(args)\n",
        "addnumber(10,20,30,40,50)"
      ],
      "metadata": {
        "colab": {
          "base_uri": "https://localhost:8080/"
        },
        "id": "xrEDqP88eryU",
        "outputId": "b60b6b0e-f2c5-4781-f40c-c7ece75e99ae"
      },
      "execution_count": 4,
      "outputs": [
        {
          "output_type": "execute_result",
          "data": {
            "text/plain": [
              "150"
            ]
          },
          "metadata": {},
          "execution_count": 4
        }
      ]
    },
    {
      "cell_type": "code",
      "source": [
        "def Multiple_parameter_access(**kwargs):\n",
        "  for key,value in kwargs.items():\n",
        "    print(\"{} is {}\".format(key,value))"
      ],
      "metadata": {
        "id": "sjmP81dffGz8"
      },
      "execution_count": 5,
      "outputs": []
    },
    {
      "cell_type": "code",
      "source": [
        "Multiple_parameter_access(name=\"kaniz\",age=22,dept=\"cse\")"
      ],
      "metadata": {
        "colab": {
          "base_uri": "https://localhost:8080/"
        },
        "id": "uh_DD8KRhAS8",
        "outputId": "247b88ea-4f16-4e56-8aed-2b5d0b14b2fb"
      },
      "execution_count": 9,
      "outputs": [
        {
          "output_type": "stream",
          "name": "stdout",
          "text": [
            "name is kaniz\n",
            "age is 22\n",
            "dept is cse\n"
          ]
        }
      ]
    }
  ]
}