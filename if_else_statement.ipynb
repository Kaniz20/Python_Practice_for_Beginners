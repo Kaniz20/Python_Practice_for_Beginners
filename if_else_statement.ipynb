{
  "nbformat": 4,
  "nbformat_minor": 0,
  "metadata": {
    "colab": {
      "provenance": [],
      "authorship_tag": "ABX9TyNI46QFrc10un51vpbWFW7J",
      "include_colab_link": true
    },
    "kernelspec": {
      "name": "python3",
      "display_name": "Python 3"
    },
    "language_info": {
      "name": "python"
    }
  },
  "cells": [
    {
      "cell_type": "markdown",
      "metadata": {
        "id": "view-in-github",
        "colab_type": "text"
      },
      "source": [
        "<a href=\"https://colab.research.google.com/github/Kaniz20/Python_Practice_for_Beginners/blob/main/if_else_statement.ipynb\" target=\"_parent\"><img src=\"https://colab.research.google.com/assets/colab-badge.svg\" alt=\"Open In Colab\"/></a>"
      ]
    },
    {
      "cell_type": "markdown",
      "source": [
        "# 🔹 if-elif-else Statement\n",
        "\n",
        "- `if` → runs when condition is True  \n",
        "- `elif` → runs when previous conditions are False but this one is True  \n",
        "- `else` → runs when none of the conditions are True  \n",
        "\n",
        "✅ Syntax:\n",
        "```python\n",
        "if condition:\n",
        "    statements\n",
        "elif condition:\n",
        "    statements\n",
        "else:\n",
        "    statements\n"
      ],
      "metadata": {
        "id": "rEA4DbNufQHl"
      }
    },
    {
      "cell_type": "code",
      "source": [
        "if True:\n",
        "  print(\"This is my first if-else code!\")"
      ],
      "metadata": {
        "colab": {
          "base_uri": "https://localhost:8080/"
        },
        "id": "ueuzSTrofxvz",
        "outputId": "74359c92-9480-41d0-8ee8-e9846dbf099b"
      },
      "execution_count": 1,
      "outputs": [
        {
          "output_type": "stream",
          "name": "stdout",
          "text": [
            "This is my first if-else code!\n"
          ]
        }
      ]
    },
    {
      "cell_type": "code",
      "source": [
        "if False:\n",
        "  print(\"This is my first if-else code!\")\n",
        "else:\n",
        "  print(\"This is my else statement!\")"
      ],
      "metadata": {
        "colab": {
          "base_uri": "https://localhost:8080/"
        },
        "id": "lXPpERmBf8jR",
        "outputId": "5e35a87d-6101-48f8-e9e9-01b65f9f0f5f"
      },
      "execution_count": 3,
      "outputs": [
        {
          "output_type": "stream",
          "name": "stdout",
          "text": [
            "This is my else statement!\n"
          ]
        }
      ]
    },
    {
      "cell_type": "code",
      "source": [
        "a,b=2,5"
      ],
      "metadata": {
        "id": "JXobPlv9gs5N"
      },
      "execution_count": 4,
      "outputs": []
    },
    {
      "cell_type": "code",
      "source": [
        "if a>b:\n",
        "  print(\"a is greater than b\")\n",
        "elif a<b:\n",
        "  print(\"a is less than b\")\n",
        "else:\n",
        "  print(\"a is equal to b\")"
      ],
      "metadata": {
        "colab": {
          "base_uri": "https://localhost:8080/"
        },
        "id": "bLVY-4DMgpkv",
        "outputId": "7a42f49d-02d5-4e59-8188-886412a7be2b"
      },
      "execution_count": 5,
      "outputs": [
        {
          "output_type": "stream",
          "name": "stdout",
          "text": [
            "a is less than b\n"
          ]
        }
      ]
    },
    {
      "cell_type": "code",
      "source": [
        "age=int(input(\"Enter your age: \"))\n",
        "if age>=18:\n",
        "  print(\"You are eligible to vote!\")\n",
        "else:\n",
        "  print(\"You are not eligible to vote!\")"
      ],
      "metadata": {
        "colab": {
          "base_uri": "https://localhost:8080/"
        },
        "id": "BhmVqUW8hFJU",
        "outputId": "27c588c5-f793-4cdd-c93b-aa760f84e176"
      },
      "execution_count": 6,
      "outputs": [
        {
          "output_type": "stream",
          "name": "stdout",
          "text": [
            "Enter your age: 17\n",
            "You are not eligible to vote!\n"
          ]
        }
      ]
    },
    {
      "cell_type": "code",
      "source": [
        "age=int(input(\"Enter your age: \"))\n",
        "if age>=18 and age<=45:\n",
        "  print(\"You are eligible to vote!\")\n",
        "else:\n",
        "  print(\"You are not eligible to vote! come back in {0} years\".format(18-age))"
      ],
      "metadata": {
        "colab": {
          "base_uri": "https://localhost:8080/"
        },
        "id": "oe7d5kwPhZel",
        "outputId": "96c3a3b2-f2ad-4f98-eb4e-aa4a677d0d2b"
      },
      "execution_count": 8,
      "outputs": [
        {
          "output_type": "stream",
          "name": "stdout",
          "text": [
            "Enter your age: 15\n",
            "You are not eligible to vote! come back in 3 years\n"
          ]
        }
      ]
    },
    {
      "cell_type": "code",
      "source": [
        "mark=int(input(\"Enter your mark: \"))\n",
        "if mark>=90:\n",
        "  print(\"Grade A\")\n",
        "elif mark>=80:\n",
        "  print(\"Grade B\")\n",
        "elif mark>=70:\n",
        "  print(\"Grade C\")"
      ],
      "metadata": {
        "colab": {
          "base_uri": "https://localhost:8080/"
        },
        "id": "qPTKKUPxhl43",
        "outputId": "6fca2391-1705-474a-e0e8-47bdff242283"
      },
      "execution_count": 10,
      "outputs": [
        {
          "output_type": "stream",
          "name": "stdout",
          "text": [
            "Enter your mark: 70\n",
            "Grade C\n"
          ]
        }
      ]
    }
  ]
}